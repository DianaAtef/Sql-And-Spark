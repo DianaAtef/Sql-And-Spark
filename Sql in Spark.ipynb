{
  "nbformat": 4,
  "nbformat_minor": 0,
  "metadata": {
    "colab": {
      "name": "Practical_work-Diana.ipynb",
      "provenance": [],
      "collapsed_sections": []
    },
    "kernelspec": {
      "display_name": "Python 3",
      "language": "python",
      "name": "python3"
    },
    "language_info": {
      "codemirror_mode": {
        "name": "ipython",
        "version": 3
      },
      "file_extension": ".py",
      "mimetype": "text/x-python",
      "name": "python",
      "nbconvert_exporter": "python",
      "pygments_lexer": "ipython3",
      "version": "3.8.8"
    }
  },
  "cells": [
    {
      "cell_type": "markdown",
      "metadata": {
        "id": "qhBfwzBgioTD"
      },
      "source": [
        "**Data about passengers:**\n",
        "*   Name\n",
        "*   Age\n",
        "*   Gender.\n"
      ]
    },
    {
      "cell_type": "markdown",
      "metadata": {
        "id": "DIEH8iZqi-sk"
      },
      "source": [
        "## Install and Import Libraries\n",
        "Let's install PySpark:"
      ]
    },
    {
      "cell_type": "code",
      "metadata": {
        "id": "377K-5QTnyCL"
      },
      "source": [
        "# 1. install all the dependencies in Colab environment i.e. Apache Spark 3.0.1 with hadoop 2.7, Java 8 and Findspark to locate the spark in the system\n",
        "!apt-get install openjdk-8-jdk-headless -qq > /dev/null\n",
        "!wget -q https://archive.apache.org/dist/spark/spark-3.0.1/spark-3.0.1-bin-hadoop2.7.tgz\n",
        "!tar xf spark-3.0.1-bin-hadoop2.7.tgz\n",
        "!pip install -q findspark\n",
        "\n",
        "# 2. Setup Environment Variables\n",
        "import os\n",
        "os.environ[\"JAVA_HOME\"] = \"/usr/lib/jvm/java-8-openjdk-amd64\"\n",
        "os.environ[\"SPARK_HOME\"] = \"/content/spark-3.0.1-bin-hadoop2.7\""
      ],
      "execution_count": null,
      "outputs": []
    },
    {
      "cell_type": "markdown",
      "metadata": {
        "id": "SDp80mG9jmfU"
      },
      "source": [
        "## Build Spark Session"
      ]
    },
    {
      "cell_type": "code",
      "metadata": {
        "id": "ttzML9fpjE5a"
      },
      "source": [
        "import findspark\n",
        "findspark.init()"
      ],
      "execution_count": null,
      "outputs": []
    },
    {
      "cell_type": "code",
      "metadata": {
        "id": "mM9XyYNFnrzw"
      },
      "source": [
        "import pyspark"
      ],
      "execution_count": null,
      "outputs": []
    },
    {
      "cell_type": "code",
      "metadata": {
        "id": "Rw_kl4Vbnrzx"
      },
      "source": [
        "from pyspark.sql import SparkSession"
      ],
      "execution_count": null,
      "outputs": []
    },
    {
      "cell_type": "code",
      "metadata": {
        "id": "vV7IaS5Jnrzy"
      },
      "source": [
        "spark = SparkSession.builder.appName('Ml').getOrCreate()"
      ],
      "execution_count": null,
      "outputs": []
    },
    {
      "cell_type": "markdown",
      "metadata": {
        "id": "TiqECDzLj1Mg"
      },
      "source": [
        "## Data Loading\n"
      ]
    },
    {
      "cell_type": "markdown",
      "metadata": {
        "id": "vn-hxNggkTqV"
      },
      "source": [
        "You have two datasets: \n",
        "* Train  \n",
        "* Test."
      ]
    },
    {
      "cell_type": "markdown",
      "metadata": {
        "id": "x8-A8M7QmKDJ"
      },
      "source": [
        "Read two datasets: \n",
        "* Train\n",
        "* Test.\n",
        "\n"
      ]
    },
    {
      "cell_type": "code",
      "metadata": {
        "id": "Mx2qAccBk15y"
      },
      "source": [
        "train_filepath = 'train.csv'\n",
        "test_filepath = 'test.csv'"
      ],
      "execution_count": null,
      "outputs": []
    },
    {
      "cell_type": "code",
      "metadata": {
        "colab": {
          "base_uri": "https://localhost:8080/"
        },
        "id": "kCg4KYdYnrz2",
        "outputId": "6508616a-c877-4025-c0ac-e9fed3165458"
      },
      "source": [
        "train_df = spark.read.csv(train_filepath,header=True,inferSchema=True)\n",
        "train_df.printSchema()"
      ],
      "execution_count": null,
      "outputs": [
        {
          "output_type": "stream",
          "name": "stdout",
          "text": [
            "root\n",
            " |-- PassengerId: integer (nullable = true)\n",
            " |-- Survived: integer (nullable = true)\n",
            " |-- Pclass: integer (nullable = true)\n",
            " |-- Name: string (nullable = true)\n",
            " |-- Sex: string (nullable = true)\n",
            " |-- Age: double (nullable = true)\n",
            " |-- SibSp: integer (nullable = true)\n",
            " |-- Parch: integer (nullable = true)\n",
            " |-- Ticket: string (nullable = true)\n",
            " |-- Fare: double (nullable = true)\n",
            " |-- Cabin: string (nullable = true)\n",
            " |-- Embarked: string (nullable = true)\n",
            "\n"
          ]
        }
      ]
    },
    {
      "cell_type": "code",
      "metadata": {
        "colab": {
          "base_uri": "https://localhost:8080/"
        },
        "id": "9TRy2NmLnrz3",
        "outputId": "84d94ce0-c0d2-45e2-8579-7434457d77e0"
      },
      "source": [
        "train_df.show(5)"
      ],
      "execution_count": null,
      "outputs": [
        {
          "output_type": "stream",
          "name": "stdout",
          "text": [
            "+-----------+--------+------+--------------------+------+----+-----+-----+----------------+-------+-----+--------+\n",
            "|PassengerId|Survived|Pclass|                Name|   Sex| Age|SibSp|Parch|          Ticket|   Fare|Cabin|Embarked|\n",
            "+-----------+--------+------+--------------------+------+----+-----+-----+----------------+-------+-----+--------+\n",
            "|          1|       0|     3|Braund, Mr. Owen ...|  male|22.0|    1|    0|       A/5 21171|   7.25| null|       S|\n",
            "|          2|       1|     1|Cumings, Mrs. Joh...|female|38.0|    1|    0|        PC 17599|71.2833|  C85|       C|\n",
            "|          3|       1|     3|Heikkinen, Miss. ...|female|26.0|    0|    0|STON/O2. 3101282|  7.925| null|       S|\n",
            "|          4|       1|     1|Futrelle, Mrs. Ja...|female|35.0|    1|    0|          113803|   53.1| C123|       S|\n",
            "|          5|       0|     3|Allen, Mr. Willia...|  male|35.0|    0|    0|          373450|   8.05| null|       S|\n",
            "+-----------+--------+------+--------------------+------+----+-----+-----+----------------+-------+-----+--------+\n",
            "only showing top 5 rows\n",
            "\n"
          ]
        }
      ]
    },
    {
      "cell_type": "code",
      "metadata": {
        "colab": {
          "base_uri": "https://localhost:8080/"
        },
        "id": "KdeI44m9nrz4",
        "outputId": "afa0d543-8243-4ed4-b11b-f55703de2541"
      },
      "source": [
        "test_df = spark.read.csv(test_filepath,header=True,inferSchema=True)\n",
        "test_df.printSchema()"
      ],
      "execution_count": null,
      "outputs": [
        {
          "output_type": "stream",
          "name": "stdout",
          "text": [
            "root\n",
            " |-- PassengerId: integer (nullable = true)\n",
            " |-- Survived: integer (nullable = true)\n",
            " |-- Pclass: integer (nullable = true)\n",
            " |-- Name: string (nullable = true)\n",
            " |-- Sex: string (nullable = true)\n",
            " |-- Age: double (nullable = true)\n",
            " |-- SibSp: integer (nullable = true)\n",
            " |-- Parch: integer (nullable = true)\n",
            " |-- Ticket: string (nullable = true)\n",
            " |-- Fare: double (nullable = true)\n",
            " |-- Cabin: string (nullable = true)\n",
            " |-- Embarked: string (nullable = true)\n",
            "\n"
          ]
        }
      ]
    },
    {
      "cell_type": "code",
      "metadata": {
        "colab": {
          "base_uri": "https://localhost:8080/"
        },
        "id": "sjHT4Wplnrz4",
        "outputId": "353b12e7-4b60-4e56-d138-315c8afa3e06"
      },
      "source": [
        "test_df.show(5)"
      ],
      "execution_count": null,
      "outputs": [
        {
          "output_type": "stream",
          "name": "stdout",
          "text": [
            "+-----------+--------+------+--------------------+------+----+-----+-----+--------+-------+-----+--------+\n",
            "|PassengerId|Survived|Pclass|                Name|   Sex| Age|SibSp|Parch|  Ticket|   Fare|Cabin|Embarked|\n",
            "+-----------+--------+------+--------------------+------+----+-----+-----+--------+-------+-----+--------+\n",
            "|          1|       1|     1|Goldenberg, Mr. S...|  male|49.0|    1|    0|   17453|89.1042|  C92|       C|\n",
            "|          2|       0|     3| Peduzzi, Mr. Joseph|  male|null|    0|    0|A/5 2817|   8.05| null|       S|\n",
            "|          3|       1|     3|  Jalsevac, Mr. Ivan|  male|29.0|    0|    0|  349240| 7.8958| null|       C|\n",
            "|          4|       0|     1|Millet, Mr. Franc...|  male|65.0|    0|    0|   13509|  26.55|  E38|       S|\n",
            "|          5|       1|     1|Kenyon, Mrs. Fred...|female|null|    1|    0|   17464|51.8625|  D21|       S|\n",
            "+-----------+--------+------+--------------------+------+----+-----+-----+--------+-------+-----+--------+\n",
            "only showing top 5 rows\n",
            "\n"
          ]
        }
      ]
    },
    {
      "cell_type": "markdown",
      "metadata": {
        "id": "Lj2ANTnWmSCq"
      },
      "source": [
        "Let's work with train dataset:"
      ]
    },
    {
      "cell_type": "markdown",
      "metadata": {
        "id": "b5mWJR30lNs5"
      },
      "source": [
        "**Confirm if this is a dataframe or not:**"
      ]
    },
    {
      "cell_type": "code",
      "metadata": {
        "id": "tEYTePrzk9yl",
        "colab": {
          "base_uri": "https://localhost:8080/"
        },
        "outputId": "4d7050c0-10d2-46da-a9f9-28fcf7d30b07"
      },
      "source": [
        "type(train_df)"
      ],
      "execution_count": null,
      "outputs": [
        {
          "output_type": "execute_result",
          "data": {
            "text/plain": [
              "pyspark.sql.dataframe.DataFrame"
            ]
          },
          "metadata": {},
          "execution_count": 11
        }
      ]
    },
    {
      "cell_type": "markdown",
      "metadata": {
        "id": "lvLJElPrlT4i"
      },
      "source": [
        "**Show 5 rows.**"
      ]
    },
    {
      "cell_type": "code",
      "metadata": {
        "id": "jYwhqvV8lnO0",
        "colab": {
          "base_uri": "https://localhost:8080/"
        },
        "outputId": "a8d7f348-2948-4e02-b5aa-a462d3ac8a56"
      },
      "source": [
        "train_df.show(5)"
      ],
      "execution_count": null,
      "outputs": [
        {
          "output_type": "stream",
          "name": "stdout",
          "text": [
            "+-----------+--------+------+--------------------+------+----+-----+-----+----------------+-------+-----+--------+\n",
            "|PassengerId|Survived|Pclass|                Name|   Sex| Age|SibSp|Parch|          Ticket|   Fare|Cabin|Embarked|\n",
            "+-----------+--------+------+--------------------+------+----+-----+-----+----------------+-------+-----+--------+\n",
            "|          1|       0|     3|Braund, Mr. Owen ...|  male|22.0|    1|    0|       A/5 21171|   7.25| null|       S|\n",
            "|          2|       1|     1|Cumings, Mrs. Joh...|female|38.0|    1|    0|        PC 17599|71.2833|  C85|       C|\n",
            "|          3|       1|     3|Heikkinen, Miss. ...|female|26.0|    0|    0|STON/O2. 3101282|  7.925| null|       S|\n",
            "|          4|       1|     1|Futrelle, Mrs. Ja...|female|35.0|    1|    0|          113803|   53.1| C123|       S|\n",
            "|          5|       0|     3|Allen, Mr. Willia...|  male|35.0|    0|    0|          373450|   8.05| null|       S|\n",
            "+-----------+--------+------+--------------------+------+----+-----+-----+----------------+-------+-----+--------+\n",
            "only showing top 5 rows\n",
            "\n"
          ]
        }
      ]
    },
    {
      "cell_type": "markdown",
      "metadata": {
        "id": "6QIYVxRXlnnw"
      },
      "source": [
        "**Display schema for the dataset:**"
      ]
    },
    {
      "cell_type": "code",
      "metadata": {
        "id": "pcvERiICl1Ep",
        "colab": {
          "base_uri": "https://localhost:8080/"
        },
        "outputId": "6dfd5ee5-93e0-4ee3-eec2-9bc73b490dc9"
      },
      "source": [
        "train_df.printSchema()"
      ],
      "execution_count": null,
      "outputs": [
        {
          "output_type": "stream",
          "name": "stdout",
          "text": [
            "root\n",
            " |-- PassengerId: integer (nullable = true)\n",
            " |-- Survived: integer (nullable = true)\n",
            " |-- Pclass: integer (nullable = true)\n",
            " |-- Name: string (nullable = true)\n",
            " |-- Sex: string (nullable = true)\n",
            " |-- Age: double (nullable = true)\n",
            " |-- SibSp: integer (nullable = true)\n",
            " |-- Parch: integer (nullable = true)\n",
            " |-- Ticket: string (nullable = true)\n",
            " |-- Fare: double (nullable = true)\n",
            " |-- Cabin: string (nullable = true)\n",
            " |-- Embarked: string (nullable = true)\n",
            "\n"
          ]
        }
      ]
    },
    {
      "cell_type": "markdown",
      "metadata": {
        "id": "xmE3Wd80l1S6"
      },
      "source": [
        "**Statistical summary:**"
      ]
    },
    {
      "cell_type": "code",
      "metadata": {
        "id": "cNY0SItol5Mo",
        "colab": {
          "base_uri": "https://localhost:8080/"
        },
        "outputId": "58436a62-46f6-4b48-8270-7be525a971e8"
      },
      "source": [
        "train_df.describe(train_df.columns).show(truncate = False)"
      ],
      "execution_count": null,
      "outputs": [
        {
          "output_type": "stream",
          "name": "stdout",
          "text": [
            "+-------+-----------------+-------------------+------------------+------------------------------------------------+------+------------------+------------------+-------------------+------------------+-----------------+-----+--------+\n",
            "|summary|PassengerId      |Survived           |Pclass            |Name                                            |Sex   |Age               |SibSp             |Parch              |Ticket            |Fare             |Cabin|Embarked|\n",
            "+-------+-----------------+-------------------+------------------+------------------------------------------------+------+------------------+------------------+-------------------+------------------+-----------------+-----+--------+\n",
            "|count  |891              |891                |891               |891                                             |891   |714               |891               |891                |891               |891              |204  |889     |\n",
            "|mean   |446.0            |0.3838383838383838 |2.308641975308642 |null                                            |null  |29.69911764705882 |0.5230078563411896|0.38159371492704824|260318.54916792738|32.2042079685746 |null |null    |\n",
            "|stddev |257.3538420152301|0.48659245426485753|0.8360712409770491|null                                            |null  |14.526497332334035|1.1027434322934315|0.8060572211299488 |471609.26868834975|49.69342859718089|null |null    |\n",
            "|min    |1                |0                  |1                 |\"Andersson, Mr. August Edvard (\"\"Wennerstrom\"\")\"|female|0.42              |0                 |0                  |110152            |0.0              |A10  |C       |\n",
            "|max    |891              |1                  |3                 |van Melkebeke, Mr. Philemon                     |male  |80.0              |8                 |6                  |WE/P 5735         |512.3292         |T    |S       |\n",
            "+-------+-----------------+-------------------+------------------+------------------------------------------------+------+------------------+------------------+-------------------+------------------+-----------------+-----+--------+\n",
            "\n"
          ]
        }
      ]
    },
    {
      "cell_type": "markdown",
      "metadata": {
        "id": "HiFaIEQTl70_"
      },
      "source": [
        "## EDA - Exploratory Data Analysis"
      ]
    },
    {
      "cell_type": "markdown",
      "metadata": {
        "id": "PSNPOnP8mw2Q"
      },
      "source": [
        "**Display count for the train dataset:**"
      ]
    },
    {
      "cell_type": "code",
      "metadata": {
        "id": "zrtpG11Fl9HM",
        "colab": {
          "base_uri": "https://localhost:8080/"
        },
        "outputId": "c5d94e2e-3017-468e-d359-87405c8bda7a"
      },
      "source": [
        "train_df.count()"
      ],
      "execution_count": null,
      "outputs": [
        {
          "output_type": "execute_result",
          "data": {
            "text/plain": [
              "891"
            ]
          },
          "metadata": {},
          "execution_count": 15
        }
      ]
    },
    {
      "cell_type": "markdown",
      "metadata": {
        "id": "t_6nnTfxm9_x"
      },
      "source": [
        "**Can you answer this question:** \n",
        "\n",
        "**How many people survived, and how many didn't survive?** \n",
        "\n",
        "**Please save data in a variable.**"
      ]
    },
    {
      "cell_type": "code",
      "metadata": {
        "id": "QDoqPwyomYxA"
      },
      "source": [
        "survived_df = train_df.groupby(\"Survived\").count()"
      ],
      "execution_count": null,
      "outputs": []
    },
    {
      "cell_type": "markdown",
      "metadata": {
        "id": "P8DUtZXPn46m"
      },
      "source": [
        "**Display your result:**"
      ]
    },
    {
      "cell_type": "code",
      "metadata": {
        "id": "0XHAK8ceoCMU",
        "colab": {
          "base_uri": "https://localhost:8080/"
        },
        "outputId": "0c4e7017-033a-4ba7-bd7d-66d178a7d040"
      },
      "source": [
        "survived_df.show()"
      ],
      "execution_count": null,
      "outputs": [
        {
          "output_type": "stream",
          "name": "stdout",
          "text": [
            "+--------+-----+\n",
            "|Survived|count|\n",
            "+--------+-----+\n",
            "|       1|  342|\n",
            "|       0|  549|\n",
            "+--------+-----+\n",
            "\n"
          ]
        }
      ]
    },
    {
      "cell_type": "markdown",
      "metadata": {
        "id": "Ygsg7wQqor9a"
      },
      "source": [
        "**Can you display your answer in ratio form?(Hint: Use UDF.)**\n",
        "\n",
        "\n",
        "\n",
        "\n"
      ]
    },
    {
      "cell_type": "code",
      "metadata": {
        "id": "3uiaN29PoQnf",
        "colab": {
          "base_uri": "https://localhost:8080/"
        },
        "outputId": "dfa2395a-074e-4648-d316-4472d1d15f2d"
      },
      "source": [
        "import pyspark.sql.functions as f\n",
        "total = survived_df.select(\"count\").agg({\"count\": \"sum\"}).collect().pop()['sum(count)']\n",
        "result = survived_df.withColumn('percent', (survived_df['count']/total)).show()"
      ],
      "execution_count": null,
      "outputs": [
        {
          "output_type": "stream",
          "name": "stdout",
          "text": [
            "+--------+-----+------------------+\n",
            "|Survived|count|           percent|\n",
            "+--------+-----+------------------+\n",
            "|       1|  342|0.3838383838383838|\n",
            "|       0|  549|0.6161616161616161|\n",
            "+--------+-----+------------------+\n",
            "\n"
          ]
        }
      ]
    },
    {
      "cell_type": "code",
      "metadata": {
        "id": "PvzEwesgoQ3s",
        "colab": {
          "base_uri": "https://localhost:8080/"
        },
        "outputId": "135e12bb-32d4-4c6c-a397-538ee1160870"
      },
      "source": [
        "total = train_df.select('survived').count()\n",
        "total"
      ],
      "execution_count": null,
      "outputs": [
        {
          "output_type": "execute_result",
          "data": {
            "text/plain": [
              "891"
            ]
          },
          "metadata": {},
          "execution_count": 19
        }
      ]
    },
    {
      "cell_type": "code",
      "metadata": {
        "colab": {
          "base_uri": "https://localhost:8080/"
        },
        "id": "uGmbsCjzttap",
        "outputId": "72234e72-b4cc-4ecc-ec96-2b0bf9d26408"
      },
      "source": [
        "import pyspark.sql.functions as F     \n",
        "\n",
        "survived_df.agg(F.sum(\"count\")).collect()[0][0]"
      ],
      "execution_count": null,
      "outputs": [
        {
          "output_type": "execute_result",
          "data": {
            "text/plain": [
              "891"
            ]
          },
          "metadata": {},
          "execution_count": 20
        }
      ]
    },
    {
      "cell_type": "markdown",
      "metadata": {
        "id": "d57UGXmxnrz9"
      },
      "source": [
        "# Another Method"
      ]
    },
    {
      "cell_type": "code",
      "metadata": {
        "colab": {
          "base_uri": "https://localhost:8080/"
        },
        "id": "OA99A9hTnrz9",
        "outputId": "4d51ca97-2cfc-4403-b81c-b7204b2d4580"
      },
      "source": [
        "survived_df.withColumn('ratio',survived_df['count'] / total).show()"
      ],
      "execution_count": null,
      "outputs": [
        {
          "output_type": "stream",
          "name": "stdout",
          "text": [
            "+--------+-----+------------------+\n",
            "|Survived|count|             ratio|\n",
            "+--------+-----+------------------+\n",
            "|       1|  342|0.3838383838383838|\n",
            "|       0|  549|0.6161616161616161|\n",
            "+--------+-----+------------------+\n",
            "\n"
          ]
        }
      ]
    },
    {
      "cell_type": "code",
      "metadata": {
        "id": "mQxy8PJZzgiG"
      },
      "source": [
        "from pyspark.sql.types import FloatType, IntegerType, StringType\n",
        "from pyspark.sql.functions import udf,col"
      ],
      "execution_count": null,
      "outputs": []
    },
    {
      "cell_type": "code",
      "metadata": {
        "id": "vqdSH2Zczpzv"
      },
      "source": [
        "def ratio(number):\n",
        "    return number/total"
      ],
      "execution_count": null,
      "outputs": []
    },
    {
      "cell_type": "markdown",
      "metadata": {
        "id": "3HGHXg_n0GrL"
      },
      "source": [
        "# Using UDF"
      ]
    },
    {
      "cell_type": "code",
      "metadata": {
        "id": "uu7qsFcmzk_6"
      },
      "source": [
        "ratio_udf = udf(lambda z: ratio(z),FloatType())"
      ],
      "execution_count": null,
      "outputs": []
    },
    {
      "cell_type": "code",
      "metadata": {
        "colab": {
          "base_uri": "https://localhost:8080/"
        },
        "id": "woXHtciQzxc6",
        "outputId": "59ba20aa-6cfb-45bb-c2e6-1317e0a4e5f0"
      },
      "source": [
        "survived_df.withColumn(\"ratio\", ratio_udf(col(\"count\"))).show(truncate=False)"
      ],
      "execution_count": null,
      "outputs": [
        {
          "output_type": "stream",
          "name": "stdout",
          "text": [
            "+--------+-----+----------+\n",
            "|Survived|count|ratio     |\n",
            "+--------+-----+----------+\n",
            "|1       |342  |0.3838384 |\n",
            "|0       |549  |0.61616164|\n",
            "+--------+-----+----------+\n",
            "\n"
          ]
        }
      ]
    },
    {
      "cell_type": "markdown",
      "metadata": {
        "id": "Q7Aker_lp1h4"
      },
      "source": [
        "**Can you get the number of males and females?**\n"
      ]
    },
    {
      "cell_type": "code",
      "metadata": {
        "id": "XllkDlo3ongJ",
        "colab": {
          "base_uri": "https://localhost:8080/"
        },
        "outputId": "46c4746d-b87e-4bd3-d1e5-bb36e1df7c22"
      },
      "source": [
        "count_df = train_df.groupby(\"Sex\").count()\n",
        "count_df.show()"
      ],
      "execution_count": null,
      "outputs": [
        {
          "output_type": "stream",
          "name": "stdout",
          "text": [
            "+------+-----+\n",
            "|   Sex|count|\n",
            "+------+-----+\n",
            "|female|  314|\n",
            "|  male|  577|\n",
            "+------+-----+\n",
            "\n"
          ]
        }
      ]
    },
    {
      "cell_type": "code",
      "metadata": {
        "colab": {
          "base_uri": "https://localhost:8080/"
        },
        "id": "SFkL-uhJnrz-",
        "outputId": "cdb4e8b0-f150-4739-dc3d-9e02c45bef90"
      },
      "source": [
        "total_female = count_df.select('count').where(count_df.Sex == 'female').show()"
      ],
      "execution_count": null,
      "outputs": [
        {
          "output_type": "stream",
          "name": "stdout",
          "text": [
            "+-----+\n",
            "|count|\n",
            "+-----+\n",
            "|  314|\n",
            "+-----+\n",
            "\n"
          ]
        }
      ]
    },
    {
      "cell_type": "code",
      "metadata": {
        "colab": {
          "base_uri": "https://localhost:8080/"
        },
        "id": "yvM2fO01nrz-",
        "outputId": "b1d7b11e-c951-43e0-ce36-decdddec5264"
      },
      "source": [
        "total_female = train_df.select('Sex').where(train_df.Sex == 'female').count()\n",
        "total_female"
      ],
      "execution_count": null,
      "outputs": [
        {
          "output_type": "execute_result",
          "data": {
            "text/plain": [
              "314"
            ]
          },
          "metadata": {},
          "execution_count": 24
        }
      ]
    },
    {
      "cell_type": "code",
      "metadata": {
        "colab": {
          "base_uri": "https://localhost:8080/"
        },
        "id": "HZ1RIm-ynrz-",
        "outputId": "f56f4c7b-0917-4ac1-d8d1-ee48fb4cf473"
      },
      "source": [
        "total_male = train_df.select('Sex').where(train_df.Sex == 'male').count()\n",
        "total_male"
      ],
      "execution_count": null,
      "outputs": [
        {
          "output_type": "execute_result",
          "data": {
            "text/plain": [
              "577"
            ]
          },
          "metadata": {},
          "execution_count": 36
        }
      ]
    },
    {
      "cell_type": "markdown",
      "metadata": {
        "id": "YHFaJ15zqtEV"
      },
      "source": [
        "**1. What is the average number of survivors of each gender?**\n",
        "\n",
        "**2. What is the number of survivors of each gender?**\n",
        "\n",
        "(Hint: Group by the \"sex\" column.)"
      ]
    },
    {
      "cell_type": "code",
      "metadata": {
        "id": "NUikH7MUqdKq",
        "colab": {
          "base_uri": "https://localhost:8080/"
        },
        "outputId": "d897fd1c-caf6-4e21-fabf-2623cea9d4f8"
      },
      "source": [
        "survivors = train_df.groupby([\"Sex\",\"Survived\"]).count()\n",
        "survivors.show()"
      ],
      "execution_count": null,
      "outputs": [
        {
          "output_type": "stream",
          "name": "stdout",
          "text": [
            "+------+--------+-----+\n",
            "|   Sex|Survived|count|\n",
            "+------+--------+-----+\n",
            "|  male|       0|  468|\n",
            "|female|       1|  233|\n",
            "|female|       0|   81|\n",
            "|  male|       1|  109|\n",
            "+------+--------+-----+\n",
            "\n"
          ]
        }
      ]
    },
    {
      "cell_type": "code",
      "metadata": {
        "colab": {
          "base_uri": "https://localhost:8080/"
        },
        "id": "z7J-0wQBnrz_",
        "outputId": "67221496-74d9-488a-b5d9-a9aaa3c5d563"
      },
      "source": [
        "survivors_df = survivors.select(\"Sex\",\"Survived\",\"count\").where(survivors.Survived == 1)\n",
        "survivors_df.show()"
      ],
      "execution_count": null,
      "outputs": [
        {
          "output_type": "stream",
          "name": "stdout",
          "text": [
            "+------+--------+-----+\n",
            "|   Sex|Survived|count|\n",
            "+------+--------+-----+\n",
            "|female|       1|  233|\n",
            "|  male|       1|  109|\n",
            "+------+--------+-----+\n",
            "\n"
          ]
        }
      ]
    },
    {
      "cell_type": "code",
      "metadata": {
        "colab": {
          "base_uri": "https://localhost:8080/"
        },
        "id": "YwMk3uVjnrz_",
        "outputId": "d6608f9c-4dca-45e1-cc80-d5ce08d9a0c1"
      },
      "source": [
        "from pyspark.sql.functions import when\n",
        "from pyspark.sql.functions import col\n",
        "survivors_avg = survivors_df.withColumn(\"avg\", when(col(\"Sex\") == \"female\",survivors_df['count']/total_female)\n",
        "      .when(col(\"Sex\") == \"male\",survivors_df['count']/total_male)).show()"
      ],
      "execution_count": null,
      "outputs": [
        {
          "output_type": "stream",
          "name": "stdout",
          "text": [
            "+------+--------+-----+-------------------+\n",
            "|   Sex|Survived|count|                avg|\n",
            "+------+--------+-----+-------------------+\n",
            "|female|       1|  233| 0.7420382165605095|\n",
            "|  male|       1|  109|0.18890814558058924|\n",
            "+------+--------+-----+-------------------+\n",
            "\n"
          ]
        }
      ]
    },
    {
      "cell_type": "markdown",
      "metadata": {
        "id": "kCEdYNdArtRN"
      },
      "source": [
        "**Create temporary view PySpark:**"
      ]
    },
    {
      "cell_type": "code",
      "metadata": {
        "id": "YjlK6HDUqsI5"
      },
      "source": [
        "train_df.createOrReplaceTempView('train_df_view')"
      ],
      "execution_count": null,
      "outputs": []
    },
    {
      "cell_type": "markdown",
      "metadata": {
        "id": "JXNePifnshHr"
      },
      "source": [
        "**How many people survived, and how many didn't survive? By SQL:**"
      ]
    },
    {
      "cell_type": "code",
      "metadata": {
        "id": "0HxfPRTMslqk",
        "colab": {
          "base_uri": "https://localhost:8080/"
        },
        "outputId": "c65f4f62-c1b1-418c-f129-ed0e7e86c8fd"
      },
      "source": [
        "spark.sql('SELECT Survived,COUNT(Survived) AS Count FROM train_df_view GROUP BY Survived').show()"
      ],
      "execution_count": null,
      "outputs": [
        {
          "output_type": "stream",
          "name": "stdout",
          "text": [
            "+--------+-----+\n",
            "|Survived|Count|\n",
            "+--------+-----+\n",
            "|       1|  342|\n",
            "|       0|  549|\n",
            "+--------+-----+\n",
            "\n"
          ]
        }
      ]
    },
    {
      "cell_type": "markdown",
      "metadata": {
        "id": "sVCdY6EasFWV"
      },
      "source": [
        "**Can you display the number of survivors from each gender as a ratio?**\n",
        "\n",
        "(Hint: Group by \"sex\" column.)\n",
        "\n",
        "**Can you do this via SQL?**"
      ]
    },
    {
      "cell_type": "code",
      "metadata": {
        "id": "7xQc3pUUr3HF",
        "colab": {
          "base_uri": "https://localhost:8080/"
        },
        "outputId": "586dcb44-f93a-4694-ff76-343deda17fae"
      },
      "source": [
        "spark.sql('SELECT Sex,round(SUM(Survived) / COUNT(Survived),2) AS Gender_ratio FROM train_df_view GROUP BY Sex').show() "
      ],
      "execution_count": null,
      "outputs": [
        {
          "output_type": "stream",
          "name": "stdout",
          "text": [
            "+------+------------+\n",
            "|   Sex|Gender_ratio|\n",
            "+------+------------+\n",
            "|female|        0.74|\n",
            "|  male|        0.19|\n",
            "+------+------------+\n",
            "\n"
          ]
        }
      ]
    },
    {
      "cell_type": "markdown",
      "metadata": {
        "id": "j6QXc5V8uu3Y"
      },
      "source": [
        "**Display a ratio for p-class:**\n"
      ]
    },
    {
      "cell_type": "code",
      "metadata": {
        "id": "Mscs2mDFdFsD",
        "colab": {
          "base_uri": "https://localhost:8080/"
        },
        "outputId": "5b8b70bc-6d48-4afa-8bf5-3ef6ab7f4c4c"
      },
      "source": [
        "spark.sql('SELECT Pclass,round(SUM(Survived) / COUNT(Survived),2) AS Gender_ratio FROM train_df_view GROUP BY Pclass').show() "
      ],
      "execution_count": null,
      "outputs": [
        {
          "output_type": "stream",
          "name": "stdout",
          "text": [
            "+------+------------+\n",
            "|Pclass|Gender_ratio|\n",
            "+------+------------+\n",
            "|     1|        0.63|\n",
            "|     3|        0.24|\n",
            "|     2|        0.47|\n",
            "+------+------------+\n",
            "\n"
          ]
        }
      ]
    },
    {
      "cell_type": "markdown",
      "metadata": {
        "id": "EX0klxwAvg6J"
      },
      "source": [
        "**Let's take a break and continue after this.**"
      ]
    },
    {
      "cell_type": "markdown",
      "metadata": {
        "id": "_ctM9t8atxJl"
      },
      "source": [
        "## Data Cleaning"
      ]
    },
    {
      "cell_type": "markdown",
      "metadata": {
        "id": "7CfanZTCt6Wk"
      },
      "source": [
        "**First and foremost, we must merge both the train and test datasets. (Hint: The union function can do this.)**\n",
        "\n"
      ]
    },
    {
      "cell_type": "code",
      "metadata": {
        "id": "8Nm8S1K0r4uY",
        "colab": {
          "base_uri": "https://localhost:8080/"
        },
        "outputId": "c2020039-055c-415c-dac8-3eb3f0240344"
      },
      "source": [
        "all_data = train_df.union(test_df)\n",
        "all_data.show(5)"
      ],
      "execution_count": null,
      "outputs": [
        {
          "output_type": "stream",
          "name": "stdout",
          "text": [
            "+-----------+--------+------+--------------------+------+----+-----+-----+----------------+-------+-----+--------+\n",
            "|PassengerId|Survived|Pclass|                Name|   Sex| Age|SibSp|Parch|          Ticket|   Fare|Cabin|Embarked|\n",
            "+-----------+--------+------+--------------------+------+----+-----+-----+----------------+-------+-----+--------+\n",
            "|          1|       0|     3|Braund, Mr. Owen ...|  male|22.0|    1|    0|       A/5 21171|   7.25| null|       S|\n",
            "|          2|       1|     1|Cumings, Mrs. Joh...|female|38.0|    1|    0|        PC 17599|71.2833|  C85|       C|\n",
            "|          3|       1|     3|Heikkinen, Miss. ...|female|26.0|    0|    0|STON/O2. 3101282|  7.925| null|       S|\n",
            "|          4|       1|     1|Futrelle, Mrs. Ja...|female|35.0|    1|    0|          113803|   53.1| C123|       S|\n",
            "|          5|       0|     3|Allen, Mr. Willia...|  male|35.0|    0|    0|          373450|   8.05| null|       S|\n",
            "+-----------+--------+------+--------------------+------+----+-----+-----+----------------+-------+-----+--------+\n",
            "only showing top 5 rows\n",
            "\n"
          ]
        }
      ]
    },
    {
      "cell_type": "markdown",
      "metadata": {
        "id": "jI7AD8FLz3iO"
      },
      "source": [
        "**Display count:**"
      ]
    },
    {
      "cell_type": "code",
      "metadata": {
        "id": "I4rd9e6nzzr5",
        "colab": {
          "base_uri": "https://localhost:8080/"
        },
        "outputId": "db80505d-1690-444a-e361-e5bb2847ebb1"
      },
      "source": [
        "all_data.count()"
      ],
      "execution_count": null,
      "outputs": [
        {
          "output_type": "execute_result",
          "data": {
            "text/plain": [
              "1329"
            ]
          },
          "metadata": {},
          "execution_count": 45
        }
      ]
    },
    {
      "cell_type": "markdown",
      "metadata": {
        "id": "lVQlr9vDy7Y4"
      },
      "source": [
        "**Temporary view PySpark:**"
      ]
    },
    {
      "cell_type": "code",
      "metadata": {
        "id": "s_WERAL8wvJa"
      },
      "source": [
        "all_data.createOrReplaceTempView('all_df_view')"
      ],
      "execution_count": null,
      "outputs": []
    },
    {
      "cell_type": "markdown",
      "metadata": {
        "id": "5R4Miuy0z_uP"
      },
      "source": [
        "**Can you define the number of null values in each column?**\n"
      ]
    },
    {
      "cell_type": "code",
      "metadata": {
        "id": "0LMOalKBxhpD",
        "colab": {
          "base_uri": "https://localhost:8080/"
        },
        "outputId": "4ee2b89c-315e-4583-bf2f-caf20638d765"
      },
      "source": [
        "from pyspark.sql.functions import *\n",
        "all_data.select([count(when(isnull(c), c)).alias(c) for c in all_data.columns]).show()"
      ],
      "execution_count": null,
      "outputs": [
        {
          "output_type": "stream",
          "name": "stdout",
          "text": [
            "+-----------+--------+------+----+---+---+-----+-----+------+----+-----+--------+\n",
            "|PassengerId|Survived|Pclass|Name|Sex|Age|SibSp|Parch|Ticket|Fare|Cabin|Embarked|\n",
            "+-----------+--------+------+----+---+---+-----+-----+------+----+-----+--------+\n",
            "|          0|       0|     0|   0|  0|265|    0|    0|     0|   0| 1021|       3|\n",
            "+-----------+--------+------+----+---+---+-----+-----+------+----+-----+--------+\n",
            "\n"
          ]
        }
      ]
    },
    {
      "cell_type": "markdown",
      "metadata": {
        "id": "tBX8cJ000aqe"
      },
      "source": [
        "**Create Dataframe for null values**\n",
        "\n",
        "1. Column\n",
        "2. Number of missing values."
      ]
    },
    {
      "cell_type": "code",
      "metadata": {
        "id": "ITmyUelNxjJM",
        "colab": {
          "base_uri": "https://localhost:8080/"
        },
        "outputId": "ae3aa86d-40f3-4a13-8c27-09b3c85d5d70"
      },
      "source": [
        "new_df = all_data.select([count(when(isnull(c), c)).alias(c) for c in all_data.columns])\n",
        "new_df.show()"
      ],
      "execution_count": null,
      "outputs": [
        {
          "output_type": "stream",
          "name": "stdout",
          "text": [
            "+-----------+--------+------+----+---+---+-----+-----+------+----+-----+--------+\n",
            "|PassengerId|Survived|Pclass|Name|Sex|Age|SibSp|Parch|Ticket|Fare|Cabin|Embarked|\n",
            "+-----------+--------+------+----+---+---+-----+-----+------+----+-----+--------+\n",
            "|          0|       0|     0|   0|  0|265|    0|    0|     0|   0| 1021|       3|\n",
            "+-----------+--------+------+----+---+---+-----+-----+------+----+-----+--------+\n",
            "\n"
          ]
        }
      ]
    },
    {
      "cell_type": "markdown",
      "metadata": {
        "id": "cuKrOi5a0-Ma"
      },
      "source": [
        "## Preprocessing "
      ]
    },
    {
      "cell_type": "markdown",
      "metadata": {
        "id": "Txa8NZIO1JaP"
      },
      "source": [
        "**Can you show me the name column from your temporary table?**"
      ]
    },
    {
      "cell_type": "code",
      "metadata": {
        "id": "m7yXqJoJy35k",
        "colab": {
          "base_uri": "https://localhost:8080/"
        },
        "outputId": "e971830a-85e9-46d4-db6b-b552663b7a0d"
      },
      "source": [
        "spark.sql('SELECT Name FROM all_df_view').show(5,truncate = False)"
      ],
      "execution_count": null,
      "outputs": [
        {
          "output_type": "stream",
          "name": "stdout",
          "text": [
            "+---------------------------------------------------+\n",
            "|Name                                               |\n",
            "+---------------------------------------------------+\n",
            "|Braund, Mr. Owen Harris                            |\n",
            "|Cumings, Mrs. John Bradley (Florence Briggs Thayer)|\n",
            "|Heikkinen, Miss. Laina                             |\n",
            "|Futrelle, Mrs. Jacques Heath (Lily May Peel)       |\n",
            "|Allen, Mr. William Henry                           |\n",
            "+---------------------------------------------------+\n",
            "only showing top 5 rows\n",
            "\n"
          ]
        }
      ]
    },
    {
      "cell_type": "markdown",
      "metadata": {
        "id": "3F0F9cTZ2Cuz"
      },
      "source": [
        "**Run this code:**"
      ]
    },
    {
      "cell_type": "code",
      "metadata": {
        "id": "0kx6OcB-2BBT"
      },
      "source": [
        "combined = all_data.withColumn('Title',regexp_extract(col(\"Name\"),\"([A-Za-z]+)\\.\",1))\n",
        "combined.createOrReplaceTempView('combined_view')"
      ],
      "execution_count": null,
      "outputs": []
    },
    {
      "cell_type": "markdown",
      "metadata": {
        "id": "xbZeUWS12r59"
      },
      "source": [
        "**Display the title and count \"Title\" column:**"
      ]
    },
    {
      "cell_type": "code",
      "metadata": {
        "id": "hGkFMtlp1FAI",
        "colab": {
          "base_uri": "https://localhost:8080/"
        },
        "outputId": "6c5aae42-f624-4781-f6b7-76a71eba8ae4"
      },
      "source": [
        "spark.sql('SELECT Title,COUNT(Title) FROM combined_view GROUP BY TITLE').show(truncate = False)"
      ],
      "execution_count": null,
      "outputs": [
        {
          "output_type": "stream",
          "name": "stdout",
          "text": [
            "+--------+------------+\n",
            "|Title   |count(Title)|\n",
            "+--------+------------+\n",
            "|Don     |1           |\n",
            "|Miss    |257         |\n",
            "|Countess|2           |\n",
            "|Col     |4           |\n",
            "|Rev     |9           |\n",
            "|Lady    |2           |\n",
            "|Master  |56          |\n",
            "|Mme     |1           |\n",
            "|Capt    |2           |\n",
            "|Mr      |786         |\n",
            "|Dr      |11          |\n",
            "|Mrs     |186         |\n",
            "|Sir     |2           |\n",
            "|Jonkheer|2           |\n",
            "|Mlle    |4           |\n",
            "|Major   |3           |\n",
            "|Ms      |1           |\n",
            "+--------+------------+\n",
            "\n"
          ]
        }
      ]
    },
    {
      "cell_type": "markdown",
      "metadata": {
        "id": "nLBQDKYu4JOa"
      },
      "source": [
        "**We can see that Dr, Rev, Major, Col, Mlle, Capt, Don, Jonkheer, Countess, Ms, Sir, Lady, and Mme are really rare titles, so create Dictionary and set the value to \"rare\".**"
      ]
    },
    {
      "cell_type": "code",
      "metadata": {
        "id": "MqG4zzUFnr0E"
      },
      "source": [
        "rare_list = [\"Dr\", \"Rev\", \"Major\", \"Col\", \"Mlle\", \"Capt\", \"Don\", \"Jonkheer\", \"Countess\", \"Ms\", \"Sir\", \"Lady\", \"Mme\"]"
      ],
      "execution_count": null,
      "outputs": []
    },
    {
      "cell_type": "code",
      "metadata": {
        "id": "rjnx5l5r2Qaf"
      },
      "source": [
        "title_dictionary = {\"Dr\":\"rare\",\"Rev\":\"rare\",\"Major\":\"rare\",\"Col\":\"rare\", \"Mlle\":\"rare\", \"Capt\":\"rare\", \"Don\":\"rare\", \"Jonkheer\":\"rare\", \"Countess\":\"rare\", \"Ms\":\"rare\", \"Sir\":\"rare\", \"Lady\":\"rare\", \"Mme\":\"rare\"}"
      ],
      "execution_count": null,
      "outputs": []
    },
    {
      "cell_type": "markdown",
      "metadata": {
        "id": "9wrE95Cv7Oqh"
      },
      "source": [
        "**Run the function:**"
      ]
    },
    {
      "cell_type": "code",
      "metadata": {
        "id": "HdDbWuDl7Pf4"
      },
      "source": [
        "def impute_title(title):\n",
        "    return titles_map[title]"
      ],
      "execution_count": null,
      "outputs": []
    },
    {
      "cell_type": "code",
      "metadata": {
        "id": "jYD2-j4bnr0F"
      },
      "source": [
        "def impute_title(title):\n",
        "    if title in rare_list:\n",
        "        return \"rare\"\n",
        "    else:\n",
        "        return title"
      ],
      "execution_count": null,
      "outputs": []
    },
    {
      "cell_type": "markdown",
      "metadata": {
        "id": "f5EQVIhK7a9R"
      },
      "source": [
        "**Apply the function on \"Title\" column using UDF:**"
      ]
    },
    {
      "cell_type": "code",
      "metadata": {
        "id": "2myr0BfS2eJe"
      },
      "source": [
        "udf_data = udf(lambda z: impute_title(z),StringType())"
      ],
      "execution_count": null,
      "outputs": []
    },
    {
      "cell_type": "code",
      "metadata": {
        "id": "rBAiIOn77XFa"
      },
      "source": [
        "#udf_data = udf(impute_title)\n",
        "title_df = combined.withColumn(\"Title\",udf_data(combined['Title']))"
      ],
      "execution_count": null,
      "outputs": []
    },
    {
      "cell_type": "markdown",
      "metadata": {
        "id": "sn8ewllf7kiV"
      },
      "source": [
        "**Display \"Title\" from table and group by \"Title\" column:**"
      ]
    },
    {
      "cell_type": "code",
      "metadata": {
        "id": "J9sjQb084GU6",
        "colab": {
          "base_uri": "https://localhost:8080/"
        },
        "outputId": "758cd5fa-2aeb-47aa-d0b9-cbe1c4c5379c"
      },
      "source": [
        "title_df.groupBy(\"Title\").count().show()"
      ],
      "execution_count": null,
      "outputs": [
        {
          "output_type": "stream",
          "name": "stdout",
          "text": [
            "+------+-----+\n",
            "| Title|count|\n",
            "+------+-----+\n",
            "|  rare|   44|\n",
            "|  Miss|  257|\n",
            "|Master|   56|\n",
            "|    Mr|  786|\n",
            "|   Mrs|  186|\n",
            "+------+-----+\n",
            "\n"
          ]
        }
      ]
    },
    {
      "cell_type": "code",
      "metadata": {
        "colab": {
          "base_uri": "https://localhost:8080/"
        },
        "id": "9_gCYuU-zjdE",
        "outputId": "1f393457-b30c-4250-b373-1f9ef2614201"
      },
      "source": [
        "combined.show(truncate = False)"
      ],
      "execution_count": null,
      "outputs": [
        {
          "output_type": "stream",
          "name": "stdout",
          "text": [
            "+-----------+--------+------+-------------------------------------------------------+------+----+-----+-----+----------------+-------+-----+--------+------+\n",
            "|PassengerId|Survived|Pclass|Name                                                   |Sex   |Age |SibSp|Parch|Ticket          |Fare   |Cabin|Embarked|Title |\n",
            "+-----------+--------+------+-------------------------------------------------------+------+----+-----+-----+----------------+-------+-----+--------+------+\n",
            "|1          |0       |3     |Braund, Mr. Owen Harris                                |male  |22.0|1    |0    |A/5 21171       |7.25   |null |S       |Mr    |\n",
            "|2          |1       |1     |Cumings, Mrs. John Bradley (Florence Briggs Thayer)    |female|38.0|1    |0    |PC 17599        |71.2833|C85  |C       |Mrs   |\n",
            "|3          |1       |3     |Heikkinen, Miss. Laina                                 |female|26.0|0    |0    |STON/O2. 3101282|7.925  |null |S       |Miss  |\n",
            "|4          |1       |1     |Futrelle, Mrs. Jacques Heath (Lily May Peel)           |female|35.0|1    |0    |113803          |53.1   |C123 |S       |Mrs   |\n",
            "|5          |0       |3     |Allen, Mr. William Henry                               |male  |35.0|0    |0    |373450          |8.05   |null |S       |Mr    |\n",
            "|6          |0       |3     |Moran, Mr. James                                       |male  |null|0    |0    |330877          |8.4583 |null |Q       |Mr    |\n",
            "|7          |0       |1     |McCarthy, Mr. Timothy J                                |male  |54.0|0    |0    |17463           |51.8625|E46  |S       |Mr    |\n",
            "|8          |0       |3     |Palsson, Master. Gosta Leonard                         |male  |2.0 |3    |1    |349909          |21.075 |null |S       |Master|\n",
            "|9          |1       |3     |Johnson, Mrs. Oscar W (Elisabeth Vilhelmina Berg)      |female|27.0|0    |2    |347742          |11.1333|null |S       |Mrs   |\n",
            "|10         |1       |2     |Nasser, Mrs. Nicholas (Adele Achem)                    |female|14.0|1    |0    |237736          |30.0708|null |C       |Mrs   |\n",
            "|11         |1       |3     |Sandstrom, Miss. Marguerite Rut                        |female|4.0 |1    |1    |PP 9549         |16.7   |G6   |S       |Miss  |\n",
            "|12         |1       |1     |Bonnell, Miss. Elizabeth                               |female|58.0|0    |0    |113783          |26.55  |C103 |S       |Miss  |\n",
            "|13         |0       |3     |Saundercock, Mr. William Henry                         |male  |20.0|0    |0    |A/5. 2151       |8.05   |null |S       |Mr    |\n",
            "|14         |0       |3     |Andersson, Mr. Anders Johan                            |male  |39.0|1    |5    |347082          |31.275 |null |S       |Mr    |\n",
            "|15         |0       |3     |Vestrom, Miss. Hulda Amanda Adolfina                   |female|14.0|0    |0    |350406          |7.8542 |null |S       |Miss  |\n",
            "|16         |1       |2     |Hewlett, Mrs. (Mary D Kingcome)                        |female|55.0|0    |0    |248706          |16.0   |null |S       |Mrs   |\n",
            "|17         |0       |3     |Rice, Master. Eugene                                   |male  |2.0 |4    |1    |382652          |29.125 |null |Q       |Master|\n",
            "|18         |1       |2     |Williams, Mr. Charles Eugene                           |male  |null|0    |0    |244373          |13.0   |null |S       |Mr    |\n",
            "|19         |0       |3     |Vander Planke, Mrs. Julius (Emelia Maria Vandemoortele)|female|31.0|1    |0    |345763          |18.0   |null |S       |Mrs   |\n",
            "|20         |1       |3     |Masselmani, Mrs. Fatima                                |female|null|0    |0    |2649            |7.225  |null |C       |Mrs   |\n",
            "+-----------+--------+------+-------------------------------------------------------+------+----+-----+-----+----------------+-------+-----+--------+------+\n",
            "only showing top 20 rows\n",
            "\n"
          ]
        }
      ]
    },
    {
      "cell_type": "markdown",
      "metadata": {
        "id": "-H45QNLj9vJp"
      },
      "source": [
        "## **Preprocessing Age**"
      ]
    },
    {
      "cell_type": "markdown",
      "metadata": {
        "id": "XwRAhumK-u__"
      },
      "source": [
        "**Based on the age mean, you will fill in the missing age values:**"
      ]
    },
    {
      "cell_type": "code",
      "metadata": {
        "colab": {
          "base_uri": "https://localhost:8080/"
        },
        "id": "RbOhJb9pzyYy",
        "outputId": "702b2f63-48b2-4b57-c513-dd3b2ed4f3d2"
      },
      "source": [
        "avg_age = combined.select(F.mean(\"Age\")).collect()\n",
        "avg_age[0][0]"
      ],
      "execution_count": null,
      "outputs": [
        {
          "output_type": "execute_result",
          "data": {
            "text/plain": [
              "30.079501879699244"
            ]
          },
          "metadata": {},
          "execution_count": 60
        }
      ]
    },
    {
      "cell_type": "markdown",
      "metadata": {
        "id": "JLPivde8_GI-"
      },
      "source": [
        "**Fill missing age with age mean:**"
      ]
    },
    {
      "cell_type": "code",
      "metadata": {
        "id": "lBgW8aFD90PA",
        "colab": {
          "base_uri": "https://localhost:8080/"
        },
        "outputId": "4ca66f85-e9e0-49fc-a859-ea3e62738671"
      },
      "source": [
        "df_filled = combined.na.fill(avg_age[0][0],subset = ['Age'])\n",
        "df_filled.show(truncate= False)"
      ],
      "execution_count": null,
      "outputs": [
        {
          "output_type": "stream",
          "name": "stdout",
          "text": [
            "+-----------+--------+------+-------------------------------------------------------+------+------------------+-----+-----+----------------+-------+-----+--------+------+\n",
            "|PassengerId|Survived|Pclass|Name                                                   |Sex   |Age               |SibSp|Parch|Ticket          |Fare   |Cabin|Embarked|Title |\n",
            "+-----------+--------+------+-------------------------------------------------------+------+------------------+-----+-----+----------------+-------+-----+--------+------+\n",
            "|1          |0       |3     |Braund, Mr. Owen Harris                                |male  |22.0              |1    |0    |A/5 21171       |7.25   |null |S       |Mr    |\n",
            "|2          |1       |1     |Cumings, Mrs. John Bradley (Florence Briggs Thayer)    |female|38.0              |1    |0    |PC 17599        |71.2833|C85  |C       |Mrs   |\n",
            "|3          |1       |3     |Heikkinen, Miss. Laina                                 |female|26.0              |0    |0    |STON/O2. 3101282|7.925  |null |S       |Miss  |\n",
            "|4          |1       |1     |Futrelle, Mrs. Jacques Heath (Lily May Peel)           |female|35.0              |1    |0    |113803          |53.1   |C123 |S       |Mrs   |\n",
            "|5          |0       |3     |Allen, Mr. William Henry                               |male  |35.0              |0    |0    |373450          |8.05   |null |S       |Mr    |\n",
            "|6          |0       |3     |Moran, Mr. James                                       |male  |30.079501879699244|0    |0    |330877          |8.4583 |null |Q       |Mr    |\n",
            "|7          |0       |1     |McCarthy, Mr. Timothy J                                |male  |54.0              |0    |0    |17463           |51.8625|E46  |S       |Mr    |\n",
            "|8          |0       |3     |Palsson, Master. Gosta Leonard                         |male  |2.0               |3    |1    |349909          |21.075 |null |S       |Master|\n",
            "|9          |1       |3     |Johnson, Mrs. Oscar W (Elisabeth Vilhelmina Berg)      |female|27.0              |0    |2    |347742          |11.1333|null |S       |Mrs   |\n",
            "|10         |1       |2     |Nasser, Mrs. Nicholas (Adele Achem)                    |female|14.0              |1    |0    |237736          |30.0708|null |C       |Mrs   |\n",
            "|11         |1       |3     |Sandstrom, Miss. Marguerite Rut                        |female|4.0               |1    |1    |PP 9549         |16.7   |G6   |S       |Miss  |\n",
            "|12         |1       |1     |Bonnell, Miss. Elizabeth                               |female|58.0              |0    |0    |113783          |26.55  |C103 |S       |Miss  |\n",
            "|13         |0       |3     |Saundercock, Mr. William Henry                         |male  |20.0              |0    |0    |A/5. 2151       |8.05   |null |S       |Mr    |\n",
            "|14         |0       |3     |Andersson, Mr. Anders Johan                            |male  |39.0              |1    |5    |347082          |31.275 |null |S       |Mr    |\n",
            "|15         |0       |3     |Vestrom, Miss. Hulda Amanda Adolfina                   |female|14.0              |0    |0    |350406          |7.8542 |null |S       |Miss  |\n",
            "|16         |1       |2     |Hewlett, Mrs. (Mary D Kingcome)                        |female|55.0              |0    |0    |248706          |16.0   |null |S       |Mrs   |\n",
            "|17         |0       |3     |Rice, Master. Eugene                                   |male  |2.0               |4    |1    |382652          |29.125 |null |Q       |Master|\n",
            "|18         |1       |2     |Williams, Mr. Charles Eugene                           |male  |30.079501879699244|0    |0    |244373          |13.0   |null |S       |Mr    |\n",
            "|19         |0       |3     |Vander Planke, Mrs. Julius (Emelia Maria Vandemoortele)|female|31.0              |1    |0    |345763          |18.0   |null |S       |Mrs   |\n",
            "|20         |1       |3     |Masselmani, Mrs. Fatima                                |female|30.079501879699244|0    |0    |2649            |7.225  |null |C       |Mrs   |\n",
            "+-----------+--------+------+-------------------------------------------------------+------+------------------+-----+-----+----------------+-------+-----+--------+------+\n",
            "only showing top 20 rows\n",
            "\n"
          ]
        }
      ]
    },
    {
      "cell_type": "markdown",
      "metadata": {
        "id": "jGsnUz-m_P95"
      },
      "source": [
        "## **Preprocessing Embarked**"
      ]
    },
    {
      "cell_type": "markdown",
      "metadata": {
        "id": "iHbbamcXMSYP"
      },
      "source": [
        "**Select Embarked, count them, order by count Desc, and save in grouped_Embarked variable:**\n",
        "\n",
        "\n"
      ]
    },
    {
      "cell_type": "code",
      "metadata": {
        "id": "O1rINM412KjK"
      },
      "source": [
        "grouped_Embarked = df_filled.groupBy(\"Embarked\").count().orderBy('count',ascending = False)"
      ],
      "execution_count": null,
      "outputs": []
    },
    {
      "cell_type": "markdown",
      "metadata": {
        "id": "E1qf5u2IOQrx"
      },
      "source": [
        "**Show groupped_Embarked:**"
      ]
    },
    {
      "cell_type": "code",
      "metadata": {
        "id": "jSFNDTNg_erb",
        "colab": {
          "base_uri": "https://localhost:8080/"
        },
        "outputId": "4afd8940-fcd1-4c7b-a2e5-3b1f50ccdfd9"
      },
      "source": [
        "grouped_Embarked.show()"
      ],
      "execution_count": null,
      "outputs": [
        {
          "output_type": "stream",
          "name": "stdout",
          "text": [
            "+--------+-----+\n",
            "|Embarked|count|\n",
            "+--------+-----+\n",
            "|       S|  962|\n",
            "|       C|  253|\n",
            "|       Q|  111|\n",
            "|    null|    3|\n",
            "+--------+-----+\n",
            "\n"
          ]
        }
      ]
    },
    {
      "cell_type": "markdown",
      "metadata": {
        "id": "mzQWYgKBMrbp"
      },
      "source": [
        "**Get the groupped_Embarked:** "
      ]
    },
    {
      "cell_type": "code",
      "metadata": {
        "id": "uu46QWrn_gCX"
      },
      "source": [
        "mode = grouped_Embarked.orderBy(\"count\",ascending = False).first()[0]"
      ],
      "execution_count": null,
      "outputs": []
    },
    {
      "cell_type": "markdown",
      "metadata": {
        "id": "L8vhoEs8N2w_"
      },
      "source": [
        "**Fill missing values with grouped_Embarked:**"
      ]
    },
    {
      "cell_type": "code",
      "metadata": {
        "id": "LdzQCRud_mAa",
        "colab": {
          "base_uri": "https://localhost:8080/"
        },
        "outputId": "e4e7ff1b-263f-436a-ff92-5e0ae7e3f469"
      },
      "source": [
        "df_filled2 = df_filled.na.fill(mode,subset = ['Embarked'])\n",
        "df_filled2.show()"
      ],
      "execution_count": null,
      "outputs": [
        {
          "output_type": "stream",
          "name": "stdout",
          "text": [
            "+-----------+--------+------+--------------------+------+------------------+-----+-----+----------------+-------+-----+--------+------+\n",
            "|PassengerId|Survived|Pclass|                Name|   Sex|               Age|SibSp|Parch|          Ticket|   Fare|Cabin|Embarked| Title|\n",
            "+-----------+--------+------+--------------------+------+------------------+-----+-----+----------------+-------+-----+--------+------+\n",
            "|          1|       0|     3|Braund, Mr. Owen ...|  male|              22.0|    1|    0|       A/5 21171|   7.25| null|       S|    Mr|\n",
            "|          2|       1|     1|Cumings, Mrs. Joh...|female|              38.0|    1|    0|        PC 17599|71.2833|  C85|       C|   Mrs|\n",
            "|          3|       1|     3|Heikkinen, Miss. ...|female|              26.0|    0|    0|STON/O2. 3101282|  7.925| null|       S|  Miss|\n",
            "|          4|       1|     1|Futrelle, Mrs. Ja...|female|              35.0|    1|    0|          113803|   53.1| C123|       S|   Mrs|\n",
            "|          5|       0|     3|Allen, Mr. Willia...|  male|              35.0|    0|    0|          373450|   8.05| null|       S|    Mr|\n",
            "|          6|       0|     3|    Moran, Mr. James|  male|30.079501879699244|    0|    0|          330877| 8.4583| null|       Q|    Mr|\n",
            "|          7|       0|     1|McCarthy, Mr. Tim...|  male|              54.0|    0|    0|           17463|51.8625|  E46|       S|    Mr|\n",
            "|          8|       0|     3|Palsson, Master. ...|  male|               2.0|    3|    1|          349909| 21.075| null|       S|Master|\n",
            "|          9|       1|     3|Johnson, Mrs. Osc...|female|              27.0|    0|    2|          347742|11.1333| null|       S|   Mrs|\n",
            "|         10|       1|     2|Nasser, Mrs. Nich...|female|              14.0|    1|    0|          237736|30.0708| null|       C|   Mrs|\n",
            "|         11|       1|     3|Sandstrom, Miss. ...|female|               4.0|    1|    1|         PP 9549|   16.7|   G6|       S|  Miss|\n",
            "|         12|       1|     1|Bonnell, Miss. El...|female|              58.0|    0|    0|          113783|  26.55| C103|       S|  Miss|\n",
            "|         13|       0|     3|Saundercock, Mr. ...|  male|              20.0|    0|    0|       A/5. 2151|   8.05| null|       S|    Mr|\n",
            "|         14|       0|     3|Andersson, Mr. An...|  male|              39.0|    1|    5|          347082| 31.275| null|       S|    Mr|\n",
            "|         15|       0|     3|Vestrom, Miss. Hu...|female|              14.0|    0|    0|          350406| 7.8542| null|       S|  Miss|\n",
            "|         16|       1|     2|Hewlett, Mrs. (Ma...|female|              55.0|    0|    0|          248706|   16.0| null|       S|   Mrs|\n",
            "|         17|       0|     3|Rice, Master. Eugene|  male|               2.0|    4|    1|          382652| 29.125| null|       Q|Master|\n",
            "|         18|       1|     2|Williams, Mr. Cha...|  male|30.079501879699244|    0|    0|          244373|   13.0| null|       S|    Mr|\n",
            "|         19|       0|     3|Vander Planke, Mr...|female|              31.0|    1|    0|          345763|   18.0| null|       S|   Mrs|\n",
            "|         20|       1|     3|Masselmani, Mrs. ...|female|30.079501879699244|    0|    0|            2649|  7.225| null|       C|   Mrs|\n",
            "+-----------+--------+------+--------------------+------+------------------+-----+-----+----------------+-------+-----+--------+------+\n",
            "only showing top 20 rows\n",
            "\n"
          ]
        }
      ]
    },
    {
      "cell_type": "markdown",
      "metadata": {
        "id": "TEcdV5Vb_qR_"
      },
      "source": [
        "## **Preprocessing Cabin**"
      ]
    },
    {
      "cell_type": "markdown",
      "metadata": {
        "id": "_BQzPs7tqhpA"
      },
      "source": [
        "**Replace \"cabin\" column with first char from the string:**\n",
        "\n"
      ]
    },
    {
      "cell_type": "code",
      "metadata": {
        "id": "4b6L5pK0_nQz"
      },
      "source": [
        "from pyspark.sql.functions import substring\n",
        "df_filled3 = df_filled2.withColumn(\n",
        "  'Cabin', substring('Cabin', 1, 1))"
      ],
      "execution_count": null,
      "outputs": []
    },
    {
      "cell_type": "markdown",
      "metadata": {
        "id": "6H8XshnYj4k2"
      },
      "source": [
        "**Show the result:**"
      ]
    },
    {
      "cell_type": "code",
      "metadata": {
        "id": "gJUQwnG1Oj2U",
        "colab": {
          "base_uri": "https://localhost:8080/"
        },
        "outputId": "913d409b-2515-4097-82bf-b1ae0c181641"
      },
      "source": [
        "df_filled3.show()"
      ],
      "execution_count": null,
      "outputs": [
        {
          "output_type": "stream",
          "name": "stdout",
          "text": [
            "+-----------+--------+------+--------------------+------+------------------+-----+-----+----------------+-------+-----+--------+------+\n",
            "|PassengerId|Survived|Pclass|                Name|   Sex|               Age|SibSp|Parch|          Ticket|   Fare|Cabin|Embarked| Title|\n",
            "+-----------+--------+------+--------------------+------+------------------+-----+-----+----------------+-------+-----+--------+------+\n",
            "|          1|       0|     3|Braund, Mr. Owen ...|  male|              22.0|    1|    0|       A/5 21171|   7.25| null|       S|    Mr|\n",
            "|          2|       1|     1|Cumings, Mrs. Joh...|female|              38.0|    1|    0|        PC 17599|71.2833|    C|       C|   Mrs|\n",
            "|          3|       1|     3|Heikkinen, Miss. ...|female|              26.0|    0|    0|STON/O2. 3101282|  7.925| null|       S|  Miss|\n",
            "|          4|       1|     1|Futrelle, Mrs. Ja...|female|              35.0|    1|    0|          113803|   53.1|    C|       S|   Mrs|\n",
            "|          5|       0|     3|Allen, Mr. Willia...|  male|              35.0|    0|    0|          373450|   8.05| null|       S|    Mr|\n",
            "|          6|       0|     3|    Moran, Mr. James|  male|30.079501879699244|    0|    0|          330877| 8.4583| null|       Q|    Mr|\n",
            "|          7|       0|     1|McCarthy, Mr. Tim...|  male|              54.0|    0|    0|           17463|51.8625|    E|       S|    Mr|\n",
            "|          8|       0|     3|Palsson, Master. ...|  male|               2.0|    3|    1|          349909| 21.075| null|       S|Master|\n",
            "|          9|       1|     3|Johnson, Mrs. Osc...|female|              27.0|    0|    2|          347742|11.1333| null|       S|   Mrs|\n",
            "|         10|       1|     2|Nasser, Mrs. Nich...|female|              14.0|    1|    0|          237736|30.0708| null|       C|   Mrs|\n",
            "|         11|       1|     3|Sandstrom, Miss. ...|female|               4.0|    1|    1|         PP 9549|   16.7|    G|       S|  Miss|\n",
            "|         12|       1|     1|Bonnell, Miss. El...|female|              58.0|    0|    0|          113783|  26.55|    C|       S|  Miss|\n",
            "|         13|       0|     3|Saundercock, Mr. ...|  male|              20.0|    0|    0|       A/5. 2151|   8.05| null|       S|    Mr|\n",
            "|         14|       0|     3|Andersson, Mr. An...|  male|              39.0|    1|    5|          347082| 31.275| null|       S|    Mr|\n",
            "|         15|       0|     3|Vestrom, Miss. Hu...|female|              14.0|    0|    0|          350406| 7.8542| null|       S|  Miss|\n",
            "|         16|       1|     2|Hewlett, Mrs. (Ma...|female|              55.0|    0|    0|          248706|   16.0| null|       S|   Mrs|\n",
            "|         17|       0|     3|Rice, Master. Eugene|  male|               2.0|    4|    1|          382652| 29.125| null|       Q|Master|\n",
            "|         18|       1|     2|Williams, Mr. Cha...|  male|30.079501879699244|    0|    0|          244373|   13.0| null|       S|    Mr|\n",
            "|         19|       0|     3|Vander Planke, Mr...|female|              31.0|    1|    0|          345763|   18.0| null|       S|   Mrs|\n",
            "|         20|       1|     3|Masselmani, Mrs. ...|female|30.079501879699244|    0|    0|            2649|  7.225| null|       C|   Mrs|\n",
            "+-----------+--------+------+--------------------+------+------------------+-----+-----+----------------+-------+-----+--------+------+\n",
            "only showing top 20 rows\n",
            "\n"
          ]
        }
      ]
    },
    {
      "cell_type": "markdown",
      "metadata": {
        "id": "yzSDsWsUj9Im"
      },
      "source": [
        "**Create the temporary view:**"
      ]
    },
    {
      "cell_type": "code",
      "metadata": {
        "id": "MR7CXTY7_tMJ"
      },
      "source": [
        "df_filled3.createOrReplaceTempView(\"df_view\")"
      ],
      "execution_count": null,
      "outputs": []
    },
    {
      "cell_type": "markdown",
      "metadata": {
        "id": "Gv7lfQFkrLlN"
      },
      "source": [
        "**Select \"Cabin\" column, count Cabin column, Group by \"Cabin\" column, Order By count DESC**  "
      ]
    },
    {
      "cell_type": "code",
      "metadata": {
        "colab": {
          "base_uri": "https://localhost:8080/"
        },
        "id": "IHdW3SsBwbP4",
        "outputId": "d74bda7e-c9c9-4e13-d543-6247c97b35db"
      },
      "source": [
        "df_filled3.select(\"cabin\").groupBy(\"cabin\").count().orderBy(\"count\",ascending = False).show()"
      ],
      "execution_count": null,
      "outputs": [
        {
          "output_type": "stream",
          "name": "stdout",
          "text": [
            "+-----+-----+\n",
            "|cabin|count|\n",
            "+-----+-----+\n",
            "| null| 1021|\n",
            "|    C|   82|\n",
            "|    B|   77|\n",
            "|    D|   52|\n",
            "|    E|   51|\n",
            "|    A|   23|\n",
            "|    F|   18|\n",
            "|    G|    4|\n",
            "|    T|    1|\n",
            "+-----+-----+\n",
            "\n"
          ]
        }
      ]
    },
    {
      "cell_type": "code",
      "metadata": {
        "id": "A0tZG_mvrKXv",
        "colab": {
          "base_uri": "https://localhost:8080/"
        },
        "outputId": "3c5f53f1-5a7b-40a9-accf-021ac27c5be8"
      },
      "source": [
        "spark.sql('''SELECT Cabin, count(*) AS count\n",
        "             FROM df_view\n",
        "             GROUP BY Cabin\n",
        "             ORDER BY count DESC''').show()"
      ],
      "execution_count": null,
      "outputs": [
        {
          "output_type": "stream",
          "name": "stdout",
          "text": [
            "+-----+-----+\n",
            "|Cabin|count|\n",
            "+-----+-----+\n",
            "| null| 1021|\n",
            "|    C|   82|\n",
            "|    B|   77|\n",
            "|    D|   52|\n",
            "|    E|   51|\n",
            "|    A|   23|\n",
            "|    F|   18|\n",
            "|    G|    4|\n",
            "|    T|    1|\n",
            "+-----+-----+\n",
            "\n"
          ]
        }
      ]
    },
    {
      "cell_type": "markdown",
      "metadata": {
        "id": "1GR6j0LOsB4y"
      },
      "source": [
        "**Fill missing values with \"U\":**"
      ]
    },
    {
      "cell_type": "code",
      "metadata": {
        "id": "mwq5CHEz_up_",
        "colab": {
          "base_uri": "https://localhost:8080/"
        },
        "outputId": "87fb1740-0013-4fa7-980f-c2a65d6cda32"
      },
      "source": [
        "df_filled4 = df_filled3.na.fill(\"U\",subset = [\"Cabin\"])\n",
        "df_filled4.show(5,truncate = False)"
      ],
      "execution_count": null,
      "outputs": [
        {
          "output_type": "stream",
          "name": "stdout",
          "text": [
            "+-----------+--------+------+---------------------------------------------------+------+----+-----+-----+----------------+-------+-----+--------+-----+\n",
            "|PassengerId|Survived|Pclass|Name                                               |Sex   |Age |SibSp|Parch|Ticket          |Fare   |Cabin|Embarked|Title|\n",
            "+-----------+--------+------+---------------------------------------------------+------+----+-----+-----+----------------+-------+-----+--------+-----+\n",
            "|1          |0       |3     |Braund, Mr. Owen Harris                            |male  |22.0|1    |0    |A/5 21171       |7.25   |U    |S       |Mr   |\n",
            "|2          |1       |1     |Cumings, Mrs. John Bradley (Florence Briggs Thayer)|female|38.0|1    |0    |PC 17599        |71.2833|C    |C       |Mrs  |\n",
            "|3          |1       |3     |Heikkinen, Miss. Laina                             |female|26.0|0    |0    |STON/O2. 3101282|7.925  |U    |S       |Miss |\n",
            "|4          |1       |1     |Futrelle, Mrs. Jacques Heath (Lily May Peel)       |female|35.0|1    |0    |113803          |53.1   |C    |S       |Mrs  |\n",
            "|5          |0       |3     |Allen, Mr. William Henry                           |male  |35.0|0    |0    |373450          |8.05   |U    |S       |Mr   |\n",
            "+-----------+--------+------+---------------------------------------------------+------+----+-----+-----+----------------+-------+-----+--------+-----+\n",
            "only showing top 5 rows\n",
            "\n"
          ]
        }
      ]
    },
    {
      "cell_type": "code",
      "metadata": {
        "colab": {
          "base_uri": "https://localhost:8080/"
        },
        "id": "XTUjzy4Syhjr",
        "outputId": "2a5a1c03-52c2-4098-d488-a9b0f6145293"
      },
      "source": [
        "df_filled4.select(\"cabin\").groupBy(\"cabin\").count().orderBy(\"count\",ascending = False).show()"
      ],
      "execution_count": null,
      "outputs": [
        {
          "output_type": "stream",
          "name": "stdout",
          "text": [
            "+-----+-----+\n",
            "|cabin|count|\n",
            "+-----+-----+\n",
            "|    U| 1021|\n",
            "|    C|   82|\n",
            "|    B|   77|\n",
            "|    D|   52|\n",
            "|    E|   51|\n",
            "|    A|   23|\n",
            "|    F|   18|\n",
            "|    G|    4|\n",
            "|    T|    1|\n",
            "+-----+-----+\n",
            "\n"
          ]
        }
      ]
    },
    {
      "cell_type": "markdown",
      "metadata": {
        "id": "RRnhA_5-0Hi4"
      },
      "source": [
        "**StringIndexer: A label indexer that maps a string column of labels to an ML column of label indices. If the input column is numeric, we cast it to string and index the string values. The indices are in [0, numLabels). By default, this is ordered by label frequencies so the most frequent label gets index 0. The ordering behavior is controlled by setting stringOrderType. Its default value is ‘frequencyDesc’.**"
      ]
    },
    {
      "cell_type": "markdown",
      "metadata": {
        "id": "1RIKlOX71GQ-"
      },
      "source": [
        "**StringIndexer(inputCol=None, outputCol=None)**"
      ]
    },
    {
      "cell_type": "markdown",
      "metadata": {
        "id": "c0c_Hf_b0R12"
      },
      "source": [
        "**Pipeline: ML Pipelines provide a uniform set of high-level APIs built on top of DataFrames that help users create and tune practical machine learning pipelines.**"
      ]
    },
    {
      "cell_type": "markdown",
      "metadata": {
        "id": "sWfXaZ0I4dXD"
      },
      "source": [
        "____________________________________________"
      ]
    },
    {
      "cell_type": "markdown",
      "metadata": {
        "id": "KmcT3Afi0tRf"
      },
      "source": [
        "**Create list comprehension, use StringIndexer to Converting \"Sex, Embarked, Title, and Cabin\" columns to column name+index like \"Title_index\":**"
      ]
    },
    {
      "cell_type": "code",
      "metadata": {
        "colab": {
          "base_uri": "https://localhost:8080/"
        },
        "id": "0t4l8Ufl4J2h",
        "outputId": "710c63a5-7838-4484-bec5-2f1aa82cd192"
      },
      "source": [
        "df_filled4.show()"
      ],
      "execution_count": null,
      "outputs": [
        {
          "output_type": "stream",
          "name": "stdout",
          "text": [
            "+-----------+--------+------+--------------------+------+------------------+-----+-----+----------------+-------+-----+--------+------+\n",
            "|PassengerId|Survived|Pclass|                Name|   Sex|               Age|SibSp|Parch|          Ticket|   Fare|Cabin|Embarked| Title|\n",
            "+-----------+--------+------+--------------------+------+------------------+-----+-----+----------------+-------+-----+--------+------+\n",
            "|          1|       0|     3|Braund, Mr. Owen ...|  male|              22.0|    1|    0|       A/5 21171|   7.25|    U|       S|    Mr|\n",
            "|          2|       1|     1|Cumings, Mrs. Joh...|female|              38.0|    1|    0|        PC 17599|71.2833|    C|       C|   Mrs|\n",
            "|          3|       1|     3|Heikkinen, Miss. ...|female|              26.0|    0|    0|STON/O2. 3101282|  7.925|    U|       S|  Miss|\n",
            "|          4|       1|     1|Futrelle, Mrs. Ja...|female|              35.0|    1|    0|          113803|   53.1|    C|       S|   Mrs|\n",
            "|          5|       0|     3|Allen, Mr. Willia...|  male|              35.0|    0|    0|          373450|   8.05|    U|       S|    Mr|\n",
            "|          6|       0|     3|    Moran, Mr. James|  male|30.079501879699244|    0|    0|          330877| 8.4583|    U|       Q|    Mr|\n",
            "|          7|       0|     1|McCarthy, Mr. Tim...|  male|              54.0|    0|    0|           17463|51.8625|    E|       S|    Mr|\n",
            "|          8|       0|     3|Palsson, Master. ...|  male|               2.0|    3|    1|          349909| 21.075|    U|       S|Master|\n",
            "|          9|       1|     3|Johnson, Mrs. Osc...|female|              27.0|    0|    2|          347742|11.1333|    U|       S|   Mrs|\n",
            "|         10|       1|     2|Nasser, Mrs. Nich...|female|              14.0|    1|    0|          237736|30.0708|    U|       C|   Mrs|\n",
            "|         11|       1|     3|Sandstrom, Miss. ...|female|               4.0|    1|    1|         PP 9549|   16.7|    G|       S|  Miss|\n",
            "|         12|       1|     1|Bonnell, Miss. El...|female|              58.0|    0|    0|          113783|  26.55|    C|       S|  Miss|\n",
            "|         13|       0|     3|Saundercock, Mr. ...|  male|              20.0|    0|    0|       A/5. 2151|   8.05|    U|       S|    Mr|\n",
            "|         14|       0|     3|Andersson, Mr. An...|  male|              39.0|    1|    5|          347082| 31.275|    U|       S|    Mr|\n",
            "|         15|       0|     3|Vestrom, Miss. Hu...|female|              14.0|    0|    0|          350406| 7.8542|    U|       S|  Miss|\n",
            "|         16|       1|     2|Hewlett, Mrs. (Ma...|female|              55.0|    0|    0|          248706|   16.0|    U|       S|   Mrs|\n",
            "|         17|       0|     3|Rice, Master. Eugene|  male|               2.0|    4|    1|          382652| 29.125|    U|       Q|Master|\n",
            "|         18|       1|     2|Williams, Mr. Cha...|  male|30.079501879699244|    0|    0|          244373|   13.0|    U|       S|    Mr|\n",
            "|         19|       0|     3|Vander Planke, Mr...|female|              31.0|    1|    0|          345763|   18.0|    U|       S|   Mrs|\n",
            "|         20|       1|     3|Masselmani, Mrs. ...|female|30.079501879699244|    0|    0|            2649|  7.225|    U|       C|   Mrs|\n",
            "+-----------+--------+------+--------------------+------+------------------+-----+-----+----------------+-------+-----+--------+------+\n",
            "only showing top 20 rows\n",
            "\n"
          ]
        }
      ]
    },
    {
      "cell_type": "code",
      "metadata": {
        "colab": {
          "base_uri": "https://localhost:8080/"
        },
        "id": "T862HcQp9_x3",
        "outputId": "57fc7d77-3aa1-4856-d5db-422e6ad78555"
      },
      "source": [
        "trainDF, testDF = df_filled4.randomSplit([.8,.2],seed=42)\n",
        "print(f\"There are {trainDF.count()} rows in the training set, and {testDF.count()} in the test set\")"
      ],
      "execution_count": null,
      "outputs": [
        {
          "output_type": "stream",
          "name": "stdout",
          "text": [
            "There are 1094 rows in the training set, and 235 in the test set\n"
          ]
        }
      ]
    },
    {
      "cell_type": "markdown",
      "metadata": {
        "id": "RzFCa54R15-g"
      },
      "source": [
        "**Use Pipline to fit and transform:**"
      ]
    },
    {
      "cell_type": "code",
      "metadata": {
        "id": "dZARTPDE0CQJ"
      },
      "source": [
        "categoricalCols = [\"Sex\", \"Embarked\", \"Title\", \"Cabin\"]"
      ],
      "execution_count": null,
      "outputs": []
    },
    {
      "cell_type": "code",
      "metadata": {
        "colab": {
          "base_uri": "https://localhost:8080/"
        },
        "id": "ODWqANXh0krP",
        "outputId": "6272dd07-bf70-4212-8719-b83312db5a46"
      },
      "source": [
        "indexOutputCols = [x + \"_Index\" for x in categoricalCols]\n",
        "indexOutputCols"
      ],
      "execution_count": null,
      "outputs": [
        {
          "output_type": "execute_result",
          "data": {
            "text/plain": [
              "['Sex_Index', 'Embarked_Index', 'Title_Index', 'Cabin_Index']"
            ]
          },
          "metadata": {},
          "execution_count": 76
        }
      ]
    },
    {
      "cell_type": "code",
      "metadata": {
        "id": "9K0mX7SS3KsA"
      },
      "source": [
        "from pyspark.ml.feature import StringIndexer\n",
        "stringIndexer = StringIndexer(inputCols=categoricalCols,\n",
        "                             outputCols=indexOutputCols,\n",
        "                             handleInvalid='skip')"
      ],
      "execution_count": null,
      "outputs": []
    },
    {
      "cell_type": "code",
      "metadata": {
        "colab": {
          "base_uri": "https://localhost:8080/"
        },
        "id": "UAEe9G0D5vbl",
        "outputId": "962c1870-c318-4ab9-bdb3-4b50f2521e91"
      },
      "source": [
        "numericCols = [field for (field,dataType) in trainDF.dtypes\n",
        "              if ((dataType=='double') or (dataType=='int') and (field !='Survived') )]\n",
        "numericCols"
      ],
      "execution_count": null,
      "outputs": [
        {
          "output_type": "execute_result",
          "data": {
            "text/plain": [
              "['PassengerId', 'Pclass', 'Age', 'SibSp', 'Parch', 'Fare']"
            ]
          },
          "metadata": {},
          "execution_count": 79
        }
      ]
    },
    {
      "cell_type": "code",
      "metadata": {
        "colab": {
          "base_uri": "https://localhost:8080/"
        },
        "id": "DgbHsEzS67gp",
        "outputId": "364400b5-e361-4c4e-a97b-49cc96293333"
      },
      "source": [
        "assemblerInputs = indexOutputCols + numericCols\n",
        "assemblerInputs"
      ],
      "execution_count": null,
      "outputs": [
        {
          "output_type": "execute_result",
          "data": {
            "text/plain": [
              "['Sex_Index',\n",
              " 'Embarked_Index',\n",
              " 'Title_Index',\n",
              " 'Cabin_Index',\n",
              " 'PassengerId',\n",
              " 'Pclass',\n",
              " 'Age',\n",
              " 'SibSp',\n",
              " 'Parch',\n",
              " 'Fare']"
            ]
          },
          "metadata": {},
          "execution_count": 80
        }
      ]
    },
    {
      "cell_type": "code",
      "metadata": {
        "id": "on3Y7ptl7Ifd"
      },
      "source": [
        "from pyspark.ml.feature import VectorAssembler\n",
        "vecAssembler = VectorAssembler(inputCols=assemblerInputs,outputCol='features')"
      ],
      "execution_count": null,
      "outputs": []
    },
    {
      "cell_type": "code",
      "metadata": {
        "id": "rqzHf7gP7QNg"
      },
      "source": [
        "from pyspark.ml.classification import LogisticRegression\n",
        "lr = LogisticRegression(labelCol='Survived',featuresCol='features')\n",
        "from pyspark.ml import Pipeline\n",
        "pipeline =Pipeline(stages = [stringIndexer,vecAssembler,lr])"
      ],
      "execution_count": null,
      "outputs": []
    },
    {
      "cell_type": "code",
      "metadata": {
        "id": "Qwqw0O0Z8TLG"
      },
      "source": [
        "pipelineModel = pipeline.fit(trainDF)"
      ],
      "execution_count": null,
      "outputs": []
    },
    {
      "cell_type": "code",
      "metadata": {
        "id": "H7I0HMWU9VFs"
      },
      "source": [
        "predDF = pipelineModel.transform(testDF)"
      ],
      "execution_count": null,
      "outputs": []
    },
    {
      "cell_type": "code",
      "metadata": {
        "colab": {
          "base_uri": "https://localhost:8080/"
        },
        "id": "qxs60eXq-anH",
        "outputId": "6bd94578-7300-4a1c-879f-0c6bcfa639aa"
      },
      "source": [
        "predDF.show()"
      ],
      "execution_count": null,
      "outputs": [
        {
          "output_type": "stream",
          "name": "stdout",
          "text": [
            "+-----------+--------+------+--------------------+------+------------------+-----+-----+----------------+-------+-----+--------+-----+---------+--------------+-----------+-----------+--------------------+--------------------+--------------------+----------+\n",
            "|PassengerId|Survived|Pclass|                Name|   Sex|               Age|SibSp|Parch|          Ticket|   Fare|Cabin|Embarked|Title|Sex_Index|Embarked_Index|Title_Index|Cabin_Index|            features|       rawPrediction|         probability|prediction|\n",
            "+-----------+--------+------+--------------------+------+------------------+-----+-----+----------------+-------+-----+--------+-----+---------+--------------+-----------+-----------+--------------------+--------------------+--------------------+----------+\n",
            "|          3|       1|     3|Heikkinen, Miss. ...|female|              26.0|    0|    0|STON/O2. 3101282|  7.925|    U|       S| Miss|      1.0|           0.0|        1.0|        0.0|[1.0,0.0,1.0,0.0,...|[-0.5415354743287...|[0.36783046415005...|       1.0|\n",
            "|          7|       0|     1|McCarthy, Mr. Tim...|  male|              54.0|    0|    0|           17463|51.8625|    E|       S|   Mr|      0.0|           0.0|        0.0|        4.0|(10,[3,4,5,6,9],[...|[0.57033917435898...|[0.63884143417809...|       0.0|\n",
            "|          9|       1|     3|Johnson, Mrs. Osc...|female|              27.0|    0|    2|          347742|11.1333|    U|       S|  Mrs|      1.0|           0.0|        2.0|        0.0|[1.0,0.0,2.0,0.0,...|[-0.3917679193570...|[0.40329178265216...|       1.0|\n",
            "|         14|       0|     3|Andersson, Mr. An...|  male|              39.0|    1|    5|          347082| 31.275|    U|       S|   Mr|      0.0|           0.0|        0.0|        0.0|[0.0,0.0,0.0,0.0,...|[3.85071183198363...|[0.97917817346113...|       0.0|\n",
            "|         20|       1|     3|Masselmani, Mrs. ...|female|30.079501879699244|    0|    0|            2649|  7.225|    U|       C|  Mrs|      1.0|           1.0|        2.0|        0.0|[1.0,1.0,2.0,0.0,...|[-0.9120920544277...|[0.28657192903851...|       1.0|\n",
            "|         24|       1|     1|Sloper, Mr. Willi...|  male|              28.0|    0|    0|          113788|   35.5|    A|       S|   Mr|      0.0|           0.0|        0.0|        5.0|(10,[3,4,5,6,9],[...|[-0.4976117454548...|[0.37810208140810...|       1.0|\n",
            "|         30|       0|     3| Todoroff, Mr. Lalio|  male|30.079501879699244|    0|    0|          349216| 7.8958|    U|       S|   Mr|      0.0|           0.0|        0.0|        0.0|(10,[4,5,6,9],[30...|[2.37198140173531...|[0.91466564085829...|       0.0|\n",
            "|         36|       0|     1|Holverson, Mr. Al...|  male|              42.0|    1|    0|          113789|   52.0|    U|       S|   Mr|      0.0|           0.0|        0.0|        0.0|(10,[4,5,6,7,9],[...|[1.19810600106025...|[0.76818768027195...|       0.0|\n",
            "|         46|       0|     3|Rogers, Mr. Willi...|  male|30.079501879699244|    0|    0| S.C./A.4. 23567|   8.05|    U|       S|   Mr|      0.0|           0.0|        0.0|        0.0|(10,[4,5,6,9],[46...|[2.37377392874528...|[0.91480544794880...|       0.0|\n",
            "|         47|       0|     3|   Lennon, Mr. Denis|  male|30.079501879699244|    1|    0|          370371|   15.5|    U|       Q|   Mr|      0.0|           2.0|        0.0|        0.0|[0.0,2.0,0.0,0.0,...|[2.10877604088100...|[0.89175324184004...|       0.0|\n",
            "|         48|       1|     3|O'Driscoll, Miss....|female|30.079501879699244|    0|    0|           14311|   7.75|    U|       Q| Miss|      1.0|           2.0|        1.0|        0.0|[1.0,2.0,1.0,0.0,...|[-0.9891264663049...|[0.27108465143516...|       1.0|\n",
            "|         50|       0|     3|Arnold-Franchi, M...|female|              18.0|    1|    0|          349237|   17.8|    U|       S|  Mrs|      1.0|           0.0|        2.0|        0.0|[1.0,0.0,2.0,0.0,...|[-0.7269977928098...|[0.32585388655311...|       1.0|\n",
            "|         52|       0|     3|Nosworthy, Mr. Ri...|  male|              21.0|    0|    0|      A/4. 39886|    7.8|    U|       S|   Mr|      0.0|           0.0|        0.0|        0.0|(10,[4,5,6,9],[52...|[2.03604280961931...|[0.88452970738737...|       0.0|\n",
            "|         56|       1|     1|   Woolner, Mr. Hugh|  male|30.079501879699244|    0|    0|           19947|   35.5|    C|       S|   Mr|      0.0|           0.0|        0.0|        1.0|(10,[3,4,5,6,9],[...|[0.28047986838711...|[0.56966386613915...|       0.0|\n",
            "|         63|       0|     1|Harris, Mr. Henry...|  male|              45.0|    1|    0|           36973| 83.475|    C|       S|   Mr|      0.0|           0.0|        0.0|        1.0|[0.0,0.0,0.0,1.0,...|[0.99395568895931...|[0.72986853657349...|       0.0|\n",
            "|         70|       0|     3|   Kink, Mr. Vincenz|  male|              26.0|    2|    0|          315151| 8.6625|    U|       S|   Mr|      0.0|           0.0|        0.0|        0.0|(10,[4,5,6,7,9],[...|[2.97753929583173...|[0.95154905028713...|       0.0|\n",
            "|         78|       0|     3|Moutal, Mr. Raham...|  male|30.079501879699244|    0|    0|          374746|   8.05|    U|       S|   Mr|      0.0|           0.0|        0.0|        0.0|(10,[4,5,6,9],[78...|[2.37879804353252...|[0.91519619442187...|       0.0|\n",
            "|        101|       0|     3|Petranec, Miss. M...|female|              28.0|    0|    0|          349245| 7.8958|    U|       S| Miss|      1.0|           0.0|        1.0|        0.0|[1.0,0.0,1.0,0.0,...|[-0.4511542043842...|[0.38908637868667...|       1.0|\n",
            "|        113|       0|     3|Barton, Mr. David...|  male|              22.0|    0|    0|          324669|   8.05|    U|       S|   Mr|      0.0|           0.0|        0.0|        0.0|(10,[4,5,6,9],[11...|[2.08188280709521...|[0.88912977271234...|       0.0|\n",
            "|        117|       0|     3|Connors, Mr. Patrick|  male|              70.5|    0|    0|          370369|   7.75|    U|       Q|   Mr|      0.0|           2.0|        0.0|        0.0|(10,[1,4,5,6,9],[...|[3.29106753723785...|[0.96412110024501...|       0.0|\n",
            "+-----------+--------+------+--------------------+------+------------------+-----+-----+----------------+-------+-----+--------+-----+---------+--------------+-----------+-----------+--------------------+--------------------+--------------------+----------+\n",
            "only showing top 20 rows\n",
            "\n"
          ]
        }
      ]
    },
    {
      "cell_type": "markdown",
      "metadata": {
        "id": "Qlm2ZbgR4Cyg"
      },
      "source": [
        "**Drop \"Sex, PassengerId, Name, Title, SibSp, Parch, Ticket, Cabin, Embarked\" columns**"
      ]
    },
    {
      "cell_type": "code",
      "metadata": {
        "id": "XVj3iumKAiyv",
        "colab": {
          "base_uri": "https://localhost:8080/"
        },
        "outputId": "84823619-fc55-4713-d0c1-9273c6a5d89b"
      },
      "source": [
        "drop_columns = [\"Sex\", \"PassengerId\", \"Name\", \"Title\", \"SibSp\", \"Parch\", \"Ticket\", \"Cabin\", \"Embarked\"]\n",
        "df = df_filled4.drop(*drop_columns)\n",
        "df.show(5)"
      ],
      "execution_count": null,
      "outputs": [
        {
          "output_type": "stream",
          "name": "stdout",
          "text": [
            "+--------+------+----+-------+\n",
            "|Survived|Pclass| Age|   Fare|\n",
            "+--------+------+----+-------+\n",
            "|       0|     3|22.0|   7.25|\n",
            "|       1|     1|38.0|71.2833|\n",
            "|       1|     3|26.0|  7.925|\n",
            "|       1|     1|35.0|   53.1|\n",
            "|       0|     3|35.0|   8.05|\n",
            "+--------+------+----+-------+\n",
            "only showing top 5 rows\n",
            "\n"
          ]
        }
      ]
    },
    {
      "cell_type": "markdown",
      "metadata": {
        "id": "69Yc8MwC4ggb"
      },
      "source": [
        "**Convert to pandas**"
      ]
    },
    {
      "cell_type": "code",
      "metadata": {
        "id": "R9Vfe1ZUAO9o"
      },
      "source": [
        "df_panda = df.toPandas()"
      ],
      "execution_count": null,
      "outputs": []
    },
    {
      "cell_type": "markdown",
      "metadata": {
        "id": "nLJAstwQ4pgg"
      },
      "source": [
        "**Display result**"
      ]
    },
    {
      "cell_type": "code",
      "metadata": {
        "id": "xiIo669gAmHb",
        "colab": {
          "base_uri": "https://localhost:8080/",
          "height": 419
        },
        "outputId": "cc3d8ea7-3bd5-4519-b843-6b2e63d45edb"
      },
      "source": [
        "df_panda"
      ],
      "execution_count": null,
      "outputs": [
        {
          "output_type": "execute_result",
          "data": {
            "text/html": [
              "<div>\n",
              "<style scoped>\n",
              "    .dataframe tbody tr th:only-of-type {\n",
              "        vertical-align: middle;\n",
              "    }\n",
              "\n",
              "    .dataframe tbody tr th {\n",
              "        vertical-align: top;\n",
              "    }\n",
              "\n",
              "    .dataframe thead th {\n",
              "        text-align: right;\n",
              "    }\n",
              "</style>\n",
              "<table border=\"1\" class=\"dataframe\">\n",
              "  <thead>\n",
              "    <tr style=\"text-align: right;\">\n",
              "      <th></th>\n",
              "      <th>Survived</th>\n",
              "      <th>Pclass</th>\n",
              "      <th>Age</th>\n",
              "      <th>Fare</th>\n",
              "    </tr>\n",
              "  </thead>\n",
              "  <tbody>\n",
              "    <tr>\n",
              "      <th>0</th>\n",
              "      <td>0</td>\n",
              "      <td>3</td>\n",
              "      <td>22.000000</td>\n",
              "      <td>7.2500</td>\n",
              "    </tr>\n",
              "    <tr>\n",
              "      <th>1</th>\n",
              "      <td>1</td>\n",
              "      <td>1</td>\n",
              "      <td>38.000000</td>\n",
              "      <td>71.2833</td>\n",
              "    </tr>\n",
              "    <tr>\n",
              "      <th>2</th>\n",
              "      <td>1</td>\n",
              "      <td>3</td>\n",
              "      <td>26.000000</td>\n",
              "      <td>7.9250</td>\n",
              "    </tr>\n",
              "    <tr>\n",
              "      <th>3</th>\n",
              "      <td>1</td>\n",
              "      <td>1</td>\n",
              "      <td>35.000000</td>\n",
              "      <td>53.1000</td>\n",
              "    </tr>\n",
              "    <tr>\n",
              "      <th>4</th>\n",
              "      <td>0</td>\n",
              "      <td>3</td>\n",
              "      <td>35.000000</td>\n",
              "      <td>8.0500</td>\n",
              "    </tr>\n",
              "    <tr>\n",
              "      <th>...</th>\n",
              "      <td>...</td>\n",
              "      <td>...</td>\n",
              "      <td>...</td>\n",
              "      <td>...</td>\n",
              "    </tr>\n",
              "    <tr>\n",
              "      <th>1324</th>\n",
              "      <td>0</td>\n",
              "      <td>2</td>\n",
              "      <td>27.000000</td>\n",
              "      <td>13.0000</td>\n",
              "    </tr>\n",
              "    <tr>\n",
              "      <th>1325</th>\n",
              "      <td>1</td>\n",
              "      <td>1</td>\n",
              "      <td>19.000000</td>\n",
              "      <td>30.0000</td>\n",
              "    </tr>\n",
              "    <tr>\n",
              "      <th>1326</th>\n",
              "      <td>0</td>\n",
              "      <td>3</td>\n",
              "      <td>30.079502</td>\n",
              "      <td>23.4500</td>\n",
              "    </tr>\n",
              "    <tr>\n",
              "      <th>1327</th>\n",
              "      <td>1</td>\n",
              "      <td>1</td>\n",
              "      <td>26.000000</td>\n",
              "      <td>30.0000</td>\n",
              "    </tr>\n",
              "    <tr>\n",
              "      <th>1328</th>\n",
              "      <td>0</td>\n",
              "      <td>3</td>\n",
              "      <td>32.000000</td>\n",
              "      <td>7.7500</td>\n",
              "    </tr>\n",
              "  </tbody>\n",
              "</table>\n",
              "<p>1329 rows × 4 columns</p>\n",
              "</div>"
            ],
            "text/plain": [
              "      Survived  Pclass        Age     Fare\n",
              "0            0       3  22.000000   7.2500\n",
              "1            1       1  38.000000  71.2833\n",
              "2            1       3  26.000000   7.9250\n",
              "3            1       1  35.000000  53.1000\n",
              "4            0       3  35.000000   8.0500\n",
              "...        ...     ...        ...      ...\n",
              "1324         0       2  27.000000  13.0000\n",
              "1325         1       1  19.000000  30.0000\n",
              "1326         0       3  30.079502  23.4500\n",
              "1327         1       1  26.000000  30.0000\n",
              "1328         0       3  32.000000   7.7500\n",
              "\n",
              "[1329 rows x 4 columns]"
            ]
          },
          "metadata": {},
          "execution_count": 88
        }
      ]
    },
    {
      "cell_type": "markdown",
      "metadata": {
        "id": "1FsiLsd9452v"
      },
      "source": [
        "**VectorAssembler: VectorAssembler(*, inputCols=None, outputCol=None) A feature transformer that merges multiple columns into a vector column.**\n",
        "\n"
      ]
    },
    {
      "cell_type": "markdown",
      "metadata": {
        "id": "R0XLjbGQ5NUR"
      },
      "source": [
        "**Use VectorAssembler and set InputCols the to \"train from first coloumn to end\" and set the Output to \"features\"** "
      ]
    },
    {
      "cell_type": "code",
      "metadata": {
        "id": "mWerPowK_cUn"
      },
      "source": [
        "vector_input = list(df_panda.columns[1:])"
      ],
      "execution_count": null,
      "outputs": []
    },
    {
      "cell_type": "code",
      "metadata": {
        "id": "GbZ_FxHCAstl"
      },
      "source": [
        "vecAssembler = VectorAssembler(inputCols=vector_input,outputCol='features')"
      ],
      "execution_count": null,
      "outputs": []
    },
    {
      "cell_type": "markdown",
      "metadata": {
        "id": "aP9PrLe45Tvv"
      },
      "source": [
        "**Use VectorAssembler and set the \"InputCols\" to test all column and set the \"Output\" to \"features\":**"
      ]
    },
    {
      "cell_type": "code",
      "metadata": {
        "id": "BPznOTfJAwji"
      },
      "source": [
        "vecAssembler2 = VectorAssembler(inputCols=list(df_panda.columns),outputCol='features')"
      ],
      "execution_count": null,
      "outputs": []
    },
    {
      "cell_type": "markdown",
      "metadata": {
        "id": "dU8DeZfh7JIo"
      },
      "source": [
        "**Use randomSplit function and split data to x_train, and X_test with 80% and 20% Consecutive**"
      ]
    },
    {
      "cell_type": "code",
      "metadata": {
        "id": "8C11xf1iAzKp"
      },
      "source": [
        "x_train, X_test = df.randomSplit([.8,.2],seed=42)"
      ],
      "execution_count": null,
      "outputs": []
    },
    {
      "cell_type": "markdown",
      "metadata": {
        "id": "IJQvmFai72O7"
      },
      "source": [
        "**Use RandomForestClassifier to fit and transform then display \"prediction, Survived, features\" columns**"
      ]
    },
    {
      "cell_type": "code",
      "metadata": {
        "id": "MzIDSJzgA035"
      },
      "source": [
        "from pyspark.ml.classification import RandomForestClassifier\n",
        "rf = RandomForestClassifier(labelCol='Survived',featuresCol='features')\n",
        "pipeline =Pipeline(stages = [vecAssembler,rf])"
      ],
      "execution_count": null,
      "outputs": []
    },
    {
      "cell_type": "code",
      "metadata": {
        "colab": {
          "base_uri": "https://localhost:8080/"
        },
        "id": "XFzaR0sYBDBn",
        "outputId": "7973e6ef-c119-4615-c35d-741a27bc8577"
      },
      "source": [
        "pipelineModel = pipeline.fit(x_train)\n",
        "predDF = pipelineModel.transform(X_test)\n",
        "predDF.select(\"prediction\", \"Survived\", \"features\").show(5)"
      ],
      "execution_count": null,
      "outputs": [
        {
          "output_type": "stream",
          "name": "stdout",
          "text": [
            "+----------+--------+--------------------+\n",
            "|prediction|Survived|            features|\n",
            "+----------+--------+--------------------+\n",
            "|       1.0|       0|     [1.0,19.0,53.1]|\n",
            "|       1.0|       0|     [1.0,24.0,79.2]|\n",
            "|       1.0|       0|   [1.0,25.0,151.55]|\n",
            "|       1.0|       0|     [1.0,29.0,66.6]|\n",
            "|       0.0|       0|[1.0,30.079501879...|\n",
            "+----------+--------+--------------------+\n",
            "only showing top 5 rows\n",
            "\n"
          ]
        }
      ]
    },
    {
      "cell_type": "markdown",
      "metadata": {
        "id": "FSXEI8-r8bKY"
      },
      "source": [
        "**Use MulticlassClassificationEvaluator and set the \"labelCol\" to \"Survived\",  \"predictionCol\" to \"prediction\", \"metricName\" to \"accuracy\"** "
      ]
    },
    {
      "cell_type": "code",
      "metadata": {
        "id": "Rl0UAKCaBDO-"
      },
      "source": [
        "from pyspark.ml.evaluation import MulticlassClassificationEvaluator\n",
        "classificationEvaluator = MulticlassClassificationEvaluator(predictionCol='prediction',\n",
        "                                         labelCol='Survived',\n",
        "                                         metricName='accuracy')"
      ],
      "execution_count": null,
      "outputs": []
    },
    {
      "cell_type": "markdown",
      "metadata": {
        "id": "zRGSUvTt8-os"
      },
      "source": [
        "**Use the model to predict**"
      ]
    },
    {
      "cell_type": "code",
      "metadata": {
        "id": "IpyrkChYBLjB"
      },
      "source": [
        "acc = classificationEvaluator.evaluate(predDF)"
      ],
      "execution_count": null,
      "outputs": []
    },
    {
      "cell_type": "code",
      "metadata": {
        "id": "cR4Ux2ymBOtc",
        "colab": {
          "base_uri": "https://localhost:8080/"
        },
        "outputId": "83a631b9-190f-4670-d6b0-b6dc45805178"
      },
      "source": [
        "acc"
      ],
      "execution_count": null,
      "outputs": [
        {
          "output_type": "execute_result",
          "data": {
            "text/plain": [
              "0.723404255319149"
            ]
          },
          "metadata": {},
          "execution_count": 103
        }
      ]
    },
    {
      "cell_type": "markdown",
      "metadata": {
        "id": "sO6_R1zJ9R1R"
      },
      "source": [
        "**When you are finished send the project via Google classroom**\n",
        "**Please let me know if you have any questions.**\n",
        "* nabieh.mostafa@yahoo.com\n",
        "* +201015197566 (Whatsapp)\n",
        "\n",
        "**Don't Hate me, I push you to learn**\n",
        "\n",
        "**I will help you to become an awesome data engineer.**\n",
        "\n",
        "**Why did I say that \"Data Engineer\"?**\n",
        "\n",
        "**Tricky question, but an optional question, if you would like to know the answer, ask me.**\n"
      ]
    }
  ]
}